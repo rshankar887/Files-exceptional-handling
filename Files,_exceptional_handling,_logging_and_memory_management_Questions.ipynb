{
  "nbformat": 4,
  "nbformat_minor": 0,
  "metadata": {
    "colab": {
      "provenance": []
    },
    "kernelspec": {
      "name": "python3",
      "display_name": "Python 3"
    },
    "language_info": {
      "name": "python"
    }
  },
  "cells": [
    {
      "cell_type": "markdown",
      "source": [
        "**Files, exceptional handling, logging and memory management Questions**"
      ],
      "metadata": {
        "id": "dfX1II1FUVhB"
      }
    },
    {
      "cell_type": "markdown",
      "source": [
        "**1. What is the difference between interpreted and compiled languages?**"
      ],
      "metadata": {
        "id": "wUvEbLeAVR4c"
      }
    },
    {
      "cell_type": "markdown",
      "source": [
        "The core difference between interpreted and compiled languages lies in how the source code is translated into machine-readable code for execution. Here's a breakdown:\n",
        "\n",
        "**Compiled Languages:**\n",
        "\n",
        "* **Process:**\n",
        "    * The entire source code is translated into machine code (or a lower-level representation) in a separate step called \"compilation.\"\n",
        "    * This translation is done by a program called a \"compiler.\"\n",
        "    * The resulting machine code is saved as an executable file.\n",
        "    * This executable file can then be run directly by the computer's CPU.\n",
        "* **Characteristics:**\n",
        "    * Generally faster execution speed because the code is already translated.\n",
        "    * Requires a compilation step before execution.\n",
        "    * Often results in platform-specific executable files.\n",
        "    * Errors are typically detected during the compilation process.\n",
        "* **Examples:**\n",
        "    * C, C++, C#, Java (Java is a little of both, it compiles to byte code, then the JVM interprets or JIT compiles that byte code.), Fortran.\n",
        "\n",
        "**Interpreted Languages:**\n",
        "\n",
        "* **Process:**\n",
        "    * The source code is executed line by line by a program called an \"interpreter.\"\n",
        "    * The interpreter reads and executes each instruction directly, without creating a separate executable file.\n",
        "    * The translation happens during runtime.\n",
        "* **Characteristics:**\n",
        "    * Slower execution speed compared to compiled languages because translation occurs during execution.\n",
        "    * No separate compilation step is required, making development faster.\n",
        "    * Often more platform-independent, as the interpreter handles the platform-specific details.\n",
        "    * Errors are detected during runtime.\n",
        "* **Examples:**\n",
        "    * Python, JavaScript, Ruby, Perl.\n",
        "\n",
        "**Key Differences Summarized:**\n",
        "\n",
        "* **Translation Timing:** Compiled languages translate before execution, while interpreted languages translate during execution.\n",
        "* **Execution Speed:** Compiled languages generally run faster.\n",
        "* **Error Detection:** Compiled languages detect errors during compilation, while interpreted languages detect them during runtime.\n",
        "* **Executable Files:** Compiled languages produce executable files, while interpreted languages do not (they run directly from the source code).\n",
        "\n",
        "It's important to note that the distinction isn't always absolute. Some languages, like Java, use a combination of compilation and interpretation.\n"
      ],
      "metadata": {
        "id": "qgE1kRDDVsG6"
      }
    },
    {
      "cell_type": "markdown",
      "source": [
        "**2. What is exception handling in Python?**"
      ],
      "metadata": {
        "id": "18Pq3tRaVz_N"
      }
    },
    {
      "cell_type": "markdown",
      "source": [
        "In Python, exception handling is a mechanism that allows you to gracefully manage errors that occur during the execution of your program. Instead of the program crashing when an error arises, you can use exception handling to \"catch\" the error and take appropriate actions"
      ],
      "metadata": {
        "id": "X1do9_TnWIUU"
      }
    },
    {
      "cell_type": "markdown",
      "source": [
        "**3. What is the purpose of the finally block in exception handling?**"
      ],
      "metadata": {
        "id": "YwmM5dIRWTLV"
      }
    },
    {
      "cell_type": "markdown",
      "source": [
        "The finally block in exception handling serves a crucial purpose: ensuring that a specific block of code is always executed, regardless of whether an exception occurred or not"
      ],
      "metadata": {
        "id": "PyLkKRmPWicb"
      }
    },
    {
      "cell_type": "markdown",
      "source": [
        "**4. What is logging in Python?**"
      ],
      "metadata": {
        "id": "CEj3xX6VWkAJ"
      }
    },
    {
      "cell_type": "markdown",
      "source": [
        "In Python, \"logging\" refers to a powerful and flexible system for tracking events that occur during the execution of a program. It's a standard library module that provides a way to record information, errors, warnings, and other relevant details.\n",
        "\n"
      ],
      "metadata": {
        "id": "LNVAztYSW84_"
      }
    },
    {
      "cell_type": "markdown",
      "source": [
        "**5. What is the significance of the _ _ del _ _ method in Python?**"
      ],
      "metadata": {
        "id": "JvjjYfv2XATt"
      }
    },
    {
      "cell_type": "markdown",
      "source": [
        "The _ _ del _ _ method in Python is a special method, also known as a destructor, that is called when an object is about to be garbage collected. Its significance revolves around performing cleanup operations before an object is destroyed."
      ],
      "metadata": {
        "id": "gTtcJFy_Xerh"
      }
    },
    {
      "cell_type": "markdown",
      "source": [
        "**6. What is the difference between import and from ...import in Python?**"
      ],
      "metadata": {
        "id": "X_61kNJ1XkWo"
      }
    },
    {
      "cell_type": "markdown",
      "source": [
        "In Python, both import and from ... import are used to bring modules or specific components of modules into your code. However, they differ in how they make those components available for use."
      ],
      "metadata": {
        "id": "IMmzViP5X38d"
      }
    },
    {
      "cell_type": "markdown",
      "source": [
        "**7. How can you handle multiple exceptions in Pyhton?**"
      ],
      "metadata": {
        "id": "KuXgUSuYX5NC"
      }
    },
    {
      "cell_type": "markdown",
      "source": [
        "Python provides several ways to handle multiple exceptions, allowing you to create robust and flexible error-handling code. Here's a breakdown of the common approaches:\n",
        "\n",
        "**1. Multiple `except` Blocks:**\n",
        "\n",
        "* This is the most straightforward way to handle different exception types separately.\n",
        "* Each `except` block handles a specific exception or a group of related exceptions.\n",
        "\n",
        "```python\n",
        "try:\n",
        "    # Code that might raise exceptions\n",
        "    num1 = int(input(\"Enter a number: \"))\n",
        "    num2 = int(input(\"Enter another number: \"))\n",
        "    result = num1 / num2\n",
        "    print(f\"Result: {result}\")\n",
        "\n",
        "except ValueError:\n",
        "    print(\"Error: Invalid input. Please enter numbers only.\")\n",
        "except ZeroDivisionError:\n",
        "    print(\"Error: Cannot divide by zero.\")\n",
        "except Exception as e: #Catch any other exception\n",
        "    print(f\"An unexpected error occurred: {e}\")\n",
        "```\n",
        "\n",
        "**2. Handling Multiple Exceptions in a Single `except` Block:**\n",
        "\n",
        "* You can group multiple exceptions within a single `except` block using a tuple.\n",
        "* This is useful when you want to handle several related exceptions in the same way.\n",
        "\n",
        "```python\n",
        "try:\n",
        "    # Code that might raise exceptions\n",
        "    num1 = int(input(\"Enter a number: \"))\n",
        "    num2 = int(input(\"Enter another number: \"))\n",
        "    result = num1 / num2\n",
        "    print(f\"Result: {result}\")\n",
        "\n",
        "except (ValueError, ZeroDivisionError):\n",
        "    print(\"Error: Invalid input or division by zero.\")\n",
        "\n",
        "except Exception as e:\n",
        "    print(f\"An unexpected error occurred: {e}\")\n",
        "```\n",
        "\n",
        "**3. Using a Base Exception Class:**\n",
        "\n",
        "* You can catch a base exception class (like `ArithmeticError` or `OSError`) to handle a group of related exceptions.\n",
        "* This approach is useful when you want to handle a category of exceptions without specifying each individual type.\n",
        "\n",
        "```python\n",
        "try:\n",
        "    # Code that might raise exceptions\n",
        "    num1 = int(input(\"Enter a number: \"))\n",
        "    num2 = int(input(\"Enter another number: \"))\n",
        "    result = num1 / num2\n",
        "    print(f\"Result: {result}\")\n",
        "\n",
        "except ArithmeticError: #will catch ZeroDivisionError, and other arithmetic related errors.\n",
        "    print(\"An arithmetic error occurred.\")\n",
        "\n",
        "except ValueError:\n",
        "    print(\"Error: Invalid input. Please enter numbers only.\")\n",
        "\n",
        "except Exception as e:\n",
        "    print(f\"An unexpected error occurred: {e}\")\n",
        "\n",
        "```\n",
        "\n",
        "**4. `try...except...else...finally` with Multiple Exceptions:**\n",
        "\n",
        "* You can combine multiple `except` blocks with `else` and `finally` to handle different scenarios:\n",
        "    * The `else` block executes if no exceptions occur.\n",
        "    * The `finally` block always executes, regardless of whether exceptions occur.\n",
        "\n",
        "```python\n",
        "try:\n",
        "    num1 = int(input(\"Enter a number: \"))\n",
        "    num2 = int(input(\"Enter another number: \"))\n",
        "    result = num1 / num2\n",
        "except ValueError:\n",
        "    print(\"Invalid input.\")\n",
        "except ZeroDivisionError:\n",
        "    print(\"Cannot divide by zero.\")\n",
        "except Exception as e:\n",
        "    print(f\"An unexpected error occured {e}\")\n",
        "else:\n",
        "    print(f\"The result is {result}\")\n",
        "finally:\n",
        "    print(\"Execution complete.\")\n",
        "```\n",
        "\n",
        "**Important Considerations:**\n",
        "\n",
        "* **Exception Hierarchy:** Be mindful of the exception hierarchy. Catching a base exception class will also catch its subclasses.\n",
        "* **Order of `except` Blocks:** The order of `except` blocks matters. Python checks them in the order they appear, and the first matching block is executed.\n",
        "* **Catching General Exceptions:** Using `except Exception as e:` can catch any exception, but it's generally best to catch specific exceptions whenever possible to handle them appropriately.\n",
        "* **Logging:** In production code, use the logging module to record exceptions for debugging and monitoring purposes.\n"
      ],
      "metadata": {
        "id": "cLS27UI9Yobv"
      }
    },
    {
      "cell_type": "markdown",
      "source": [
        "**8. What is the purpose of the with statement when handling files in Python?**"
      ],
      "metadata": {
        "id": "_mCvJ-kRYrVg"
      }
    },
    {
      "cell_type": "markdown",
      "source": [
        "The with statement in Python is designed to simplify and enhance the handling of resources, particularly files, by ensuring that they are properly managed and cleaned up, even if errors occur."
      ],
      "metadata": {
        "id": "CPp7FHliZNiZ"
      }
    },
    {
      "cell_type": "markdown",
      "source": [
        "**9. What is the difference between multithreading and multiprocessing?**"
      ],
      "metadata": {
        "id": "OVdfbge1ZP_Q"
      }
    },
    {
      "cell_type": "markdown",
      "source": [
        "Multithreading and multiprocessing are both techniques used to achieve concurrency, allowing a program to perform multiple tasks seemingly simultaneously. However, they differ significantly in how they accomplish this. Here's a breakdown of their key differences:\n",
        "\n",
        "**Multithreading:**\n",
        "\n",
        "* **Concept:**\n",
        "    * Multithreading involves creating multiple threads within a single process. These threads share the same memory space.\n",
        "    * The operating system switches between these threads, giving the illusion of parallel execution.\n",
        "* **Characteristics:**\n",
        "    * Threads share the same memory space, which can lead to easier communication between them but also introduces the risk of data corruption if not handled carefully.\n",
        "    * In Python, the Global Interpreter Lock (GIL) restricts true parallelism for CPU-bound tasks in multithreading. This means that only one thread can execute Python bytecode at a time. Therefore, multithreading is often more effective for I/O-bound tasks (e.g., network requests, file I/O) where threads spend time waiting for external operations.\n",
        "    * Generally, less overhead than multiprocessing, because threads are lighter weight than processes.\n",
        "* **Use Cases:**\n",
        "    * I/O-bound tasks (e.g., downloading multiple files, handling network requests).\n",
        "    * GUI applications (to keep the user interface responsive while performing background tasks).\n",
        "\n",
        "**Multiprocessing:**\n",
        "\n",
        "* **Concept:**\n",
        "    * Multiprocessing involves creating multiple independent processes, each with its own memory space.\n",
        "    * These processes can run concurrently on different CPU cores, achieving true parallelism.\n",
        "* **Characteristics:**\n",
        "    * Processes have separate memory spaces, which eliminates the risk of data corruption due to shared memory. However, communication between processes is more complex.\n",
        "    * Bypasses the GIL, allowing for true parallelism for CPU-bound tasks.\n",
        "    * Generally, more overhead than multithreading due to the creation and management of separate processes.\n",
        "* **Use Cases:**\n",
        "    * CPU-bound tasks (e.g., complex calculations, image processing, scientific simulations).\n",
        "    * Tasks that require isolation to prevent one task from crashing the entire application.\n",
        "\n",
        "**Key Differences Summarized:**\n",
        "\n",
        "* **Memory:**\n",
        "    * Multithreading: Shared memory space.\n",
        "    * Multiprocessing: Separate memory spaces.\n",
        "* **Parallelism:**\n",
        "    * Multithreading: Concurrency (limited parallelism in Python due to the GIL).\n",
        "    * Multiprocessing: True parallelism.\n",
        "* **Overhead:**\n",
        "    * Multithreading: Lower overhead.\n",
        "    * Multiprocessing: Higher overhead.\n",
        "* **Use Cases:**\n",
        "    * Multithreading: I/O-bound tasks.\n",
        "    * Multiprocessing: CPU-bound tasks.\n",
        "\n",
        "In essence, multithreading focuses on running multiple tasks within a single process, while multiprocessing focuses on running multiple independent processes.\n"
      ],
      "metadata": {
        "id": "9rs1gRivZi78"
      }
    },
    {
      "cell_type": "markdown",
      "source": [
        "**10. What are the advantages of using logging in a program?**"
      ],
      "metadata": {
        "id": "_kn28gx1ZmOB"
      }
    },
    {
      "cell_type": "markdown",
      "source": [
        "Using logging in a program offers several significant advantages over simply using `print()` statements for debugging and monitoring. Here's a breakdown of the key benefits:\n",
        "\n",
        "**1. Granular Control Over Output:**\n",
        "\n",
        "* **Log Levels:** Logging allows you to categorize messages based on their severity (DEBUG, INFO, WARNING, ERROR, CRITICAL). This enables you to control which messages are displayed or recorded based on your needs. For example, you can suppress DEBUG messages in production environments while still capturing ERROR and CRITICAL messages.\n",
        "* **Targeted Output:** You can direct log messages to different destinations (console, files, network sockets, databases) based on their severity or other criteria. This allows you to separate different types of messages for better analysis.\n",
        "\n",
        "**2. Improved Debugging and Troubleshooting:**\n",
        "\n",
        "* **Detailed Context:** Logging can automatically include timestamps, file names, line numbers, function names, and other contextual information, making it easier to pinpoint the source of errors.\n",
        "* **Persistent Records:** Log files provide a persistent record of program execution, which can be invaluable for diagnosing issues that occur intermittently or in production environments.\n",
        "* **Easier Filtering and Analysis:** Log files can be easily filtered and analyzed using tools like `grep`, `awk`, or dedicated log analysis software, making it easier to identify patterns and trends.\n",
        "\n",
        "**3. Enhanced Monitoring and Auditing:**\n",
        "\n",
        "* **Real-time Monitoring:** Logging can be used to monitor the health and performance of your applications in real-time, allowing you to identify potential issues before they become critical.\n",
        "* **Audit Trails:** Logging can be used to create audit trails of user actions or system events, which can be essential for security and compliance purposes.\n",
        "* **Performance Analysis:** Logging can be used to track the execution time of different parts of your program, allowing you to identify performance bottlenecks.\n",
        "\n",
        "**4. Flexibility and Configurability:**\n",
        "\n",
        "* **Dynamic Configuration:** Logging configurations can be changed dynamically without modifying the program's code.\n",
        "* **Customizable Formatting:** Log messages can be formatted in various ways to suit your needs.\n",
        "* **Extensibility:** The logging module is extensible, allowing you to create custom log handlers and formatters.\n",
        "\n",
        "**5. Separation of Concerns:**\n",
        "\n",
        "* **Code Clarity:** Logging separates the concerns of program logic and output, making your code cleaner and more maintainable.\n",
        "* **Reduced Code Clutter:** It removes the need for numerous `print()` statements, which can clutter your code and make it harder to read.\n",
        "\n",
        "**In summary:** Logging provides a more structured, flexible, and powerful way to manage program output, making it an essential tool for debugging, monitoring, and auditing applications.\n"
      ],
      "metadata": {
        "id": "qaAuys0maB7y"
      }
    },
    {
      "cell_type": "markdown",
      "source": [
        "**11. What is memory management in Python?**"
      ],
      "metadata": {
        "id": "UyGz6p3HaNln"
      }
    },
    {
      "cell_type": "markdown",
      "source": [
        "Memory management in Python is a crucial aspect of how the language handles the allocation and deallocation of memory resources"
      ],
      "metadata": {
        "id": "N3RxlMDHabPZ"
      }
    },
    {
      "cell_type": "markdown",
      "source": [
        "**12. What are the basic steps involved in exception handling in Pyhton?**"
      ],
      "metadata": {
        "id": "LJZIaR95aiO-"
      }
    },
    {
      "cell_type": "markdown",
      "source": [
        "The basic steps involved in exception handling in Python can be summarized as follows:\n",
        "\n",
        "1.  **Identify Potential Errors:**\n",
        "    * First, you need to identify the sections of your code that might raise exceptions. This could include things like:\n",
        "        * File input/output operations.\n",
        "        * Network operations.\n",
        "        * Mathematical calculations.\n",
        "        * User input.\n",
        "        * Accessing data structures.\n",
        "\n",
        "2.  **Enclose Code in a `try` Block:**\n",
        "    * Wrap the code that might raise an exception within a `try` block. This block tells Python to \"try\" executing the code, and if an exception occurs, to handle it.\n",
        "\n",
        "3.  **Specify `except` Blocks:**\n",
        "    * After the `try` block, you use one or more `except` blocks to specify how to handle different types of exceptions.\n",
        "    * Each `except` block specifies the type of exception it handles (e.g., `ValueError`, `ZeroDivisionError`, `FileNotFoundError`).\n",
        "    * Within each `except` block, you write the code that should be executed if the corresponding exception occurs. This code might include:\n",
        "        * Displaying an error message.\n",
        "        * Logging the error.\n",
        "        * Attempting to recover from the error.\n",
        "        * Exiting the program.\n",
        "\n",
        "4.  **Optional `else` Block:**\n",
        "    * You can include an optional `else` block after the `except` blocks.\n",
        "    * The code within the `else` block will be executed only if *no* exceptions occur within the `try` block.\n",
        "\n",
        "5.  **Optional `finally` Block:**\n",
        "    * You can also include an optional `finally` block.\n",
        "    * The code within the `finally` block will *always* be executed, regardless of whether an exception occurred or not.\n",
        "    * This is typically used for cleanup operations, such as closing files or releasing resources.\n",
        "\n",
        "**Example:**\n",
        "\n",
        "```python\n",
        "try:\n",
        "    # Code that might raise an exception\n",
        "    num1 = int(input(\"Enter a number: \"))\n",
        "    num2 = int(input(\"Enter another number: \"))\n",
        "    result = num1 / num2\n",
        "except ValueError:\n",
        "    # Handle ValueError exception\n",
        "    print(\"Error: Invalid input. Please enter numbers.\")\n",
        "except ZeroDivisionError:\n",
        "    # Handle ZeroDivisionError exception\n",
        "    print(\"Error: Cannot divide by zero.\")\n",
        "except Exception as e:\n",
        "    print(f\"An unexpected error occured: {e}\")\n",
        "else:\n",
        "    # Code to execute if no exceptions occur\n",
        "    print(f\"The result is: {result}\")\n",
        "finally:\n",
        "    # Code that always executes\n",
        "    print(\"Execution complete.\")\n",
        "```\n",
        "\n"
      ],
      "metadata": {
        "id": "bwHDkMw6a68L"
      }
    },
    {
      "cell_type": "markdown",
      "source": [
        "**13. Why is memory management important in Python?**"
      ],
      "metadata": {
        "id": "KJzqLDWMbAVC"
      }
    },
    {
      "cell_type": "markdown",
      "source": [
        "Memory management is crucial in Python, even though it's largely automated, for several key reasons:\n",
        "\n",
        "**1. Preventing Memory Leaks:**\n",
        "\n",
        "* While Python's garbage collector handles most memory deallocation, memory leaks can still occur. These leaks happen when objects are no longer needed but are not released, leading to a gradual increase in memory usage.\n",
        "* This is especially relevant in long-running applications or when dealing with large datasets. Unmanaged memory leaks can eventually cause the program to crash or significantly slow down.\n",
        "* Proper memory management practices help to avoid these leaks.\n",
        "\n",
        "**2. Optimizing Performance:**\n",
        "\n",
        "* Efficient memory usage directly impacts program performance. Allocating and deallocating memory is a relatively expensive operation.\n",
        "* By minimizing unnecessary object creation and using memory-efficient data structures, you can improve the speed and responsiveness of your Python applications.\n",
        "* Especially when working with large data sets, efficient memory managment is essential.\n",
        "\n",
        "**3. Resource Management:**\n",
        "\n",
        "* Memory is a finite resource. In environments with limited memory, such as embedded systems or mobile devices, efficient memory management is critical.\n",
        "* Even on systems with abundant memory, excessive memory usage can lead to performance degradation and reduced system stability.\n",
        "* When python programs interact with external resources, like open files, or network connections, proper memory managment, and resource closing is essential.\n",
        "\n",
        "**4. Avoiding Crashes and Instability:**\n",
        "\n",
        "* Memory-related errors, such as accessing invalid memory locations or exceeding available memory, can lead to program crashes and instability.\n",
        "* Proper memory management practices help to prevent these errors and ensure the reliability of your Python applications.\n",
        "\n",
        "**5. Scalability:**\n",
        "\n",
        "* As Python applications grow in complexity and handle larger volumes of data, efficient memory management becomes increasingly important for scalability.\n",
        "* Applications that manage memory effectively can handle more users and data without experiencing performance degradation or crashes.\n",
        "\n",
        "**6. The Global Interpreter Lock (GIL):**\n",
        "\n",
        "* Although python has automatic memory managment, the GIL (Global Interpreter Lock) has an impact on memory usage, especially in multithreaded applications.\n",
        "* Understanding how the GIL affects memory allocation and deallocation is important for optimizing performance in multithreaded Python code.\n",
        "\n",
        "In essence, even with Python's automated memory management, understanding and applying best practices for memory usage is essential for creating robust, efficient, and scalable applications.\n"
      ],
      "metadata": {
        "id": "3eDXz1P9bMRL"
      }
    },
    {
      "cell_type": "markdown",
      "source": [
        "**14. What is the role of try and except in exception handling?**"
      ],
      "metadata": {
        "id": "JktWxtjObUyS"
      }
    },
    {
      "cell_type": "markdown",
      "source": [
        "In Python exception handling, the `try` and `except` blocks play very specific and essential roles:\n",
        "\n",
        "**1. `try` Block:**\n",
        "\n",
        "* **Purpose:**\n",
        "    * The `try` block is used to enclose a section of code that might potentially raise an exception (an error).\n",
        "    * It essentially tells Python, \"Try to execute this code, and if an error occurs, I want to handle it.\"\n",
        "* **Function:**\n",
        "    * Python begins executing the code within the `try` block.\n",
        "    * If no exceptions occur during the execution of this code, the `except` blocks are skipped, and the program continues normally.\n",
        "    * However, if an exception is raised within the `try` block, Python immediately stops executing that block and looks for a matching `except` block.\n",
        "\n",
        "**2. `except` Block:**\n",
        "\n",
        "* **Purpose:**\n",
        "    * The `except` block is used to define how to handle specific exceptions that might occur within the corresponding `try` block.\n",
        "    * It essentially says, \"If this specific type of error occurs, execute this code.\"\n",
        "* **Function:**\n",
        "    * When an exception is raised within the `try` block, Python checks each `except` block in order.\n",
        "    * If an `except` block is found that matches the type of exception that occurred, the code within that `except` block is executed.\n",
        "    * If no matching `except` block is found, the exception is considered unhandled, and the program may terminate.\n",
        "    * It is possible to have multiple except blocks, to handle different potential errors.\n",
        "\n",
        "**In essence:**\n",
        "\n",
        "* The `try` block protects the code that might cause errors.\n",
        "* The `except` block provides a way to catch and handle those errors, preventing the program from crashing.\n",
        "\n",
        "This combination allows programmers to create more robust and reliable code that can gracefully handle unexpected situations.\n"
      ],
      "metadata": {
        "id": "k75nof57cA0x"
      }
    },
    {
      "cell_type": "markdown",
      "source": [
        "**15. How does Pyhton's garbage collection system work?**"
      ],
      "metadata": {
        "id": "OoTkYo8bcH2n"
      }
    },
    {
      "cell_type": "markdown",
      "source": [
        "Python's garbage collection system is a combination of reference counting and a cyclic garbage collector. Here's how it works:\n",
        "\n",
        "**1. Reference Counting:**\n",
        "\n",
        "* **Core Principle:**\n",
        "    * Every object in Python has a reference count, which tracks the number of references (variables, other objects, etc.) that point to it.\n",
        "* **Process:**\n",
        "    * When an object is created, its reference count is set to 1.\n",
        "    * When a new reference to the object is created (e.g., assigning it to a variable), the reference count is incremented.\n",
        "    * When a reference is removed (e.g., a variable goes out of scope, a reference is reassigned), the reference count is decremented.\n",
        "    * When the reference count reaches zero, it means that no references to the object exist, and it is no longer needed.\n",
        "    * Python's memory manager immediately deallocates the object's memory, making it available for reuse.\n",
        "* **Advantages:**\n",
        "    * Simple and efficient for most cases.\n",
        "    * Immediate deallocation when an object is no longer needed.\n",
        "* **Limitations:**\n",
        "    * It cannot handle cyclic references, which occur when two or more objects reference each other, creating a loop. In these cases, the reference counts never reach zero, even if the objects are no longer accessible.\n",
        "\n",
        "**2. Cyclic Garbage Collector:**\n",
        "\n",
        "* **Purpose:**\n",
        "    * To address the limitations of reference counting and reclaim memory occupied by cyclic references.\n",
        "* **Process:**\n",
        "    * Python's garbage collector periodically scans the heap (the area of memory where objects are stored) to identify cyclic references.\n",
        "    * It detects cycles by looking for objects that are reachable only through each other.\n",
        "    * Once a cycle is detected, the garbage collector breaks the references within the cycle, allowing the objects to be deallocated.\n",
        "    * This cyclic garbage collector is part of the \"gc\" module in python. This module also allows you to control certain garabage collection processes.\n",
        "* **Significance:**\n",
        "    * Ensures that memory occupied by cyclic references is eventually reclaimed, preventing memory leaks.\n"
      ],
      "metadata": {
        "id": "AS7LOnDPcmDx"
      }
    },
    {
      "cell_type": "markdown",
      "source": [
        "**16. What is the purpose of the else block in exception handling?**"
      ],
      "metadata": {
        "id": "5SdXXG0ucr64"
      }
    },
    {
      "cell_type": "markdown",
      "source": [
        "The `else` block in Python's exception handling mechanism serves a specific purpose: it executes code *only if no exceptions occur* within the corresponding `try` block.\n",
        "\n",
        "Here's a breakdown of its purpose and how it fits into the exception handling structure:\n",
        "\n",
        "**Purpose:**\n",
        "\n",
        "* **Separation of Success and Failure Logic:**\n",
        "    * The `else` block allows you to clearly separate the code that should run when the `try` block executes successfully from the code that handles exceptions.\n",
        "    * This improves code readability and organization.\n",
        "* **Avoiding Unnecessary `try` Block Complexity:**\n",
        "    * Sometimes, you have code that depends on the successful execution of the `try` block but doesn't itself raise exceptions.\n",
        "    * Putting this code in the `else` block avoids unnecessarily including it in the `try` block, which could lead to unintended exception handling.\n",
        "* **Clarity:**\n",
        "    * It makes it very clear what code should run when there are no errors.\n",
        "\n",
        "**How it Works:**\n",
        "\n",
        "1.  **`try` Block Execution:**\n",
        "    * Python first attempts to execute the code within the `try` block.\n",
        "2.  **Exception Check:**\n",
        "    * If an exception occurs during the execution of the `try` block, Python immediately jumps to the corresponding `except` block (if one exists).\n",
        "    * If no exception occurs, Python proceeds to the `else` block.\n",
        "3.  **`else` Block Execution:**\n",
        "    * If no exceptions were raised within the `try` block, the code within the `else` block is executed.\n",
        "4.  **`finally` Block Execution (if present):**\n",
        "    * Regardless of whether an exception occurred or not, and regardless of if the else block ran, the `finally` block will always run.\n",
        "\n",
        "**Example:**\n",
        "\n",
        "```python\n",
        "try:\n",
        "    num1 = int(input(\"Enter a number: \"))\n",
        "    num2 = int(input(\"Enter another number: \"))\n",
        "    result = num1 / num2\n",
        "except ValueError:\n",
        "    print(\"Invalid input. Please enter numbers.\")\n",
        "except ZeroDivisionError:\n",
        "    print(\"Cannot divide by zero.\")\n",
        "else:\n",
        "    # This code executes only if no exceptions occur\n",
        "    print(f\"The result is: {result}\")\n",
        "finally:\n",
        "    print(\"Execution complete.\")\n",
        "```\n",
        "\n",
        "In this example, the `else` block is used to print the result of the division only if the input is valid and the division is successful. This keeps the error handling separate from the successful execution logic.\n"
      ],
      "metadata": {
        "id": "DJ-jBGgwe5vR"
      }
    },
    {
      "cell_type": "markdown",
      "source": [
        "**17. What are the common logging levels in Python?**"
      ],
      "metadata": {
        "id": "J4DCiLHHfFip"
      }
    },
    {
      "cell_type": "markdown",
      "source": [
        "Python's `logging` module defines several standard logging levels, each representing a different severity of events. These levels allow you to categorize log messages and control which messages are displayed or recorded. Here are the common logging levels, in order of increasing severity:\n",
        "\n",
        "1.  **DEBUG:**\n",
        "    * This is the lowest logging level.\n",
        "    * It's used for detailed information, typically useful for diagnosing problems during development.\n",
        "    * These messages are often very verbose and may not be relevant in production environments.\n",
        "\n",
        "2.  **INFO:**\n",
        "    * This level is used for general information about the program's execution.\n",
        "    * It provides confirmation that things are working as expected.\n",
        "    * These messages are often used to track the normal flow of the application.\n",
        "\n",
        "3.  **WARNING:**\n",
        "    * This level indicates potential issues or unexpected events that might not cause immediate errors but should be investigated.\n",
        "    * It signals that something unexpected happened, or is about to happen, but the program can still continue.\n",
        "\n",
        "4.  **ERROR:**\n",
        "    * This level indicates that an error has occurred, and the program might not be able to perform a specific operation.\n",
        "    * These messages are used to record significant problems that could affect the application's functionality.\n",
        "\n",
        "5.  **CRITICAL:**\n",
        "    * This is the highest logging level.\n",
        "    * It indicates a severe error that may cause the program to terminate or become unstable.\n",
        "    * These messages are used for critical failures that require immediate attention.\n",
        "\n",
        "**Numeric Values:**\n",
        "\n",
        "Each logging level is associated with a numeric value, which is used to determine which messages are logged.\n",
        "\n",
        "* CRITICAL: 50\n",
        "* ERROR: 40\n",
        "* WARNING: 30\n",
        "* INFO: 20\n",
        "* DEBUG: 10\n",
        "* NOTSET: 0\n",
        "\n",
        "When you configure a logger, you set a threshold level. Messages with a level equal to or higher than the threshold level will be logged, while messages with lower levels will be ignored.\n",
        "\n",
        "**Example:**\n",
        "\n",
        "If you set the logging level to `WARNING`, log messages with levels `WARNING`, `ERROR`, and `CRITICAL` will be logged, but `INFO` and `DEBUG` messages will be ignored.\n"
      ],
      "metadata": {
        "id": "kY393bhTgNYI"
      }
    },
    {
      "cell_type": "markdown",
      "source": [
        "**18. What is the difference between os.fork()and multiprocessing in Python?**"
      ],
      "metadata": {
        "id": "ikO-RmubgSSM"
      }
    },
    {
      "cell_type": "markdown",
      "source": [
        "Both `os.fork()` and the `multiprocessing` module in Python are used for creating new processes, but they operate at different levels and have distinct characteristics. Here's a breakdown of their differences:\n",
        "\n",
        "**1. `os.fork()`:**\n",
        "\n",
        "* **Low-Level System Call:**\n",
        "    * `os.fork()` is a low-level system call that directly creates a copy of the current process.\n",
        "    * It's a direct interface to the operating system's `fork()` system call, which is primarily available on Unix-like systems (Linux, macOS). It is not available on windows.\n",
        "* **Process Duplication:**\n",
        "    * When `os.fork()` is called, the operating system creates an exact copy of the parent process, including its memory space, file descriptors, and execution state.\n",
        "    * After the `fork()`, both the parent and child processes continue executing from the point where `fork()` was called.\n",
        "* **Return Value:**\n",
        "    * `os.fork()` returns different values in the parent and child processes:\n",
        "        * In the child process, it returns 0.\n",
        "        * In the parent process, it returns the process ID (PID) of the child process.\n",
        "* **Complexity:**\n",
        "    * Requires careful handling of shared resources and communication between processes.\n",
        "    * Requires manual management of process termination.\n",
        "* **Limited Portability:**\n",
        "    * Not available on Windows.\n",
        "* **Minimal Python Overhead:**\n",
        "    * Since it is a direct system call, it has very little python overhead.\n",
        "\n",
        "**2. `multiprocessing` Module:**\n",
        "\n",
        "* **High-Level Abstraction:**\n",
        "    * The `multiprocessing` module provides a high-level, object-oriented interface for creating and managing processes.\n",
        "    * It abstracts away the low-level details of process creation and communication.\n",
        "* **Process Creation:**\n",
        "    * Creates new processes with independent memory spaces.\n",
        "    * Offers various ways to create processes, including using the `Process` class and process pools.\n",
        "* **Communication and Synchronization:**\n",
        "    * Provides built-in mechanisms for inter-process communication (IPC), such as pipes, queues, and shared memory.\n",
        "    * Offers tools for process synchronization, such as locks and semaphores.\n",
        "* **Portability:**\n",
        "    * Works consistently across different operating systems, including Windows, Linux, and macOS.\n",
        "* **Simplified Management:**\n",
        "    * Simplifies process management, including process termination and resource cleanup.\n",
        "* **Python Specific:**\n",
        "    * This module adds python overhead, as it is a python module that abstracts the operating system process creation.\n",
        "\n",
        "**Key Differences Summarized:**\n",
        "\n",
        "* **Level of Abstraction:**\n",
        "    * `os.fork()`: Low-level system call.\n",
        "    * `multiprocessing`: High-level module.\n",
        "* **Portability:**\n",
        "    * `os.fork()`: Unix-like systems only.\n",
        "    * `multiprocessing`: Cross-platform.\n",
        "* **Communication:**\n",
        "    * `os.fork()`: Requires manual implementation.\n",
        "    * `multiprocessing`: Provides built-in mechanisms.\n",
        "* **Complexity:**\n",
        "    * `os.fork()`: More complex.\n",
        "    * `multiprocessing`: Simpler.\n",
        "* **Overhead:**\n",
        "    * os.fork() : very low overhead.\n",
        "    * multiprocessing: higher overhead.\n",
        "\n",
        "In essence, `os.fork()` is a direct system call that offers fine-grained control but requires careful handling, while `multiprocessing` provides a more convenient and portable way to create and manage processes.\n"
      ],
      "metadata": {
        "id": "aEDs9Ia5gnch"
      }
    },
    {
      "cell_type": "markdown",
      "source": [
        "**19. What is the importance of closing a file in Python?**"
      ],
      "metadata": {
        "id": "4741TWZ4g4Ab"
      }
    },
    {
      "cell_type": "markdown",
      "source": [
        "Closing a file in Python is crucial for several reasons, primarily related to data integrity, resource management, and system stability. Here's a breakdown of the importance:\n",
        "\n",
        "**1. Data Integrity:**\n",
        "\n",
        "* **Buffering:** When you write data to a file, the operating system often buffers the data in memory before physically writing it to the disk.\n",
        "* **Data Loss:** If your program terminates unexpectedly (e.g., due to a crash or power outage) before the buffer is flushed, the data in the buffer might be lost.\n",
        "* **Ensuring Data Persistence:** Closing the file forces the operating system to flush the buffer, ensuring that all data is written to the disk and persisted.\n",
        "\n",
        "**2. Resource Management:**\n",
        "\n",
        "* **File Descriptors:** Operating systems have a limited number of file descriptors, which are used to track open files.\n",
        "* **Resource Leaks:** If you don't close files, you can exhaust the available file descriptors, preventing your program or other programs from opening new files.\n",
        "* **System Stability:** Resource leaks can lead to system instability and performance issues.\n",
        "\n",
        "**3. Preventing File Corruption:**\n",
        "\n",
        "* **Exclusive Access:** In some cases, operating systems might lock files while they are open, preventing other programs from accessing or modifying them.\n",
        "* **Shared Access Limitations:** Not closing a file after you are finished using it, may cause other processes to be unable to read or write to that file.\n",
        "* **Consistent State:** Closing the file releases the lock, allowing other programs to access it and ensuring that the file is in a consistent state.\n",
        "\n",
        "**4. Portability:**\n",
        "\n",
        "* **Operating System Differences:** While Python's `with` statement and automatic garbage collection handle file closing in many cases, relying solely on them can lead to inconsistencies across different operating systems.\n",
        "* **Explicit Closing:** Explicitly closing files using the `close()` method ensures consistent behavior across different platforms.\n",
        "\n",
        "**5. Preventing Errors:**\n",
        "\n",
        "* **File Access Errors:** If a file is not closed properly, subsequent attempts to access it may result in errors.\n",
        "* **Unpredictable Behavior:** Without proper closing, the result of future file operations may be unpredictable.\n",
        "\n",
        "**Best Practices:**\n",
        "\n",
        "* **Use the `with` Statement:** The `with` statement is the recommended way to handle files in Python. It automatically closes the file when the block of code within the `with` statement finishes, even if exceptions occur.\n",
        "\n",
        "    ```python\n",
        "    with open(\"my_file.txt\", \"r\") as file:\n",
        "        contents = file.read()\n",
        "        # File is automatically closed here\n",
        "    ```\n",
        "\n",
        "* **Explicitly Close Files (If Necessary):** If you cannot use the `with` statement, explicitly close the file using the `close()` method.\n",
        "\n",
        "    ```python\n",
        "    file = open(\"my_file.txt\", \"r\")\n",
        "    contents = file.read()\n",
        "    file.close()\n",
        "    ```\n",
        "\n",
        "In summary, closing files in Python is essential for data integrity, resource management, and system stability. The `with` statement provides a safe and convenient way to handle file closing, and it should be used whenever possible.\n"
      ],
      "metadata": {
        "id": "JQoiZ8y_hH-o"
      }
    },
    {
      "cell_type": "markdown",
      "source": [
        "**20. What is the difference between file.read() and file.readline()in Python?**"
      ],
      "metadata": {
        "id": "Ra7Kg_vjhrA8"
      }
    },
    {
      "cell_type": "markdown",
      "source": [
        "In Python, both `file.read()` and `file.readline()` are used to read data from a file, but they differ significantly in how they handle the reading process. Here's a breakdown of their differences:\n",
        "\n",
        "**1. `file.read()`:**\n",
        "\n",
        "* **Purpose:**\n",
        "    * Reads the entire contents of the file as a single string.\n",
        "* **Behavior:**\n",
        "    * If no size argument is provided, it reads the entire file from the current position to the end.\n",
        "    * If a size argument is provided, it reads up to that number of characters from the file.\n",
        "    * Returns a single string containing the file's contents.\n",
        "* **Use Cases:**\n",
        "    * Reading small files entirely into memory.\n",
        "    * Processing the entire file as a single block of text.\n",
        "\n",
        "**2. `file.readline()`:**\n",
        "\n",
        "* **Purpose:**\n",
        "    * Reads a single line from the file.\n",
        "* **Behavior:**\n",
        "    * Reads characters from the file until it encounters a newline character (`\\n`).\n",
        "    * Returns the line as a string, including the newline character at the end (unless it's the last line and it doesn't have a newline).\n",
        "    * If called again, it reads the next line from the current position.\n",
        "    * If the end of the file has been reached, and readline() is called again, then an empty string is returned.\n",
        "* **Use Cases:**\n",
        "    * Reading files line by line, especially large files that cannot fit entirely into memory.\n",
        "    * Processing files that are structured as lines of text.\n",
        "\n",
        "**Key Differences Summarized:**\n",
        "\n",
        "* **Amount of Data Read:**\n",
        "    * `file.read()`: Reads the entire file (or a specified number of characters).\n",
        "    * `file.readline()`: Reads a single line.\n",
        "* **Return Value:**\n",
        "    * `file.read()`: Returns a single string containing the file's contents.\n",
        "    * `file.readline()`: Returns a string containing a single line, including the newline character.\n",
        "* **Memory Usage:**\n",
        "    * `file.read()`: Can consume significant memory for large files.\n",
        "    * `file.readline()`: Consumes less memory, as it reads one line at a time.\n",
        "* **Iteration:**\n",
        "    * When needing to iterate through a file, it is best to use a for loop on the file object itself. For example: `for line in file:`. This method is the most memory efficient, and the most pythonic.\n",
        "\n",
        "**Example:**\n",
        "\n",
        "```python\n",
        "# file.txt contains:\n",
        "# Line 1\n",
        "# Line 2\n",
        "# Line 3\n",
        "\n",
        "with open(\"file.txt\", \"r\") as file:\n",
        "    all_contents = file.read()\n",
        "    print(\"read():\", all_contents)\n",
        "\n",
        "with open(\"file.txt\", \"r\") as file:\n",
        "    line1 = file.readline()\n",
        "    line2 = file.readline()\n",
        "    print(\"readline():\", line1, line2)\n",
        "\n",
        "with open(\"file.txt\", \"r\") as file:\n",
        "    for line in file:\n",
        "        print(\"for loop:\", line, end=\"\")\n",
        "\n",
        "```\n"
      ],
      "metadata": {
        "id": "tppNF2U4iCud"
      }
    },
    {
      "cell_type": "markdown",
      "source": [
        "**21. What is the logging module in Python used for?**"
      ],
      "metadata": {
        "id": "InWxRMxjiFu1"
      }
    },
    {
      "cell_type": "markdown",
      "source": [
        "The logging module in Python is a powerful and flexible tool used for tracking events that occur during the execution of a program. It provides a standardized way to record messages, errors, warnings, and other relevant information."
      ],
      "metadata": {
        "id": "qWJa9QReie-z"
      }
    },
    {
      "cell_type": "markdown",
      "source": [
        "**22. What is the OS module in Python used for in file handling?**"
      ],
      "metadata": {
        "id": "lCaLmsAjigKb"
      }
    },
    {
      "cell_type": "markdown",
      "source": [
        "The `os` module in Python provides a wide range of operating system functionalities, and it plays a significant role in file handling. While it doesn't directly read or write file contents (that's the job of built-in file objects), it handles operations related to the file system itself.\n",
        "\n",
        "Here's how the `os` module is used in file handling:\n",
        "\n",
        "**1. File and Directory Path Manipulation:**\n",
        "\n",
        "* **`os.path.join()`:** Constructs platform-independent file paths. This is crucial for ensuring your code works correctly on different operating systems (Windows, macOS, Linux).\n",
        "* **`os.path.exists()`:** Checks if a file or directory exists.\n",
        "* **`os.path.isfile()`:** Checks if a path points to a file.\n",
        "* **`os.path.isdir()`:** Checks if a path points to a directory.\n",
        "* **`os.path.abspath()`:** Returns the absolute path of a file or directory.\n",
        "* **`os.path.dirname()`:** Returns the directory name from a path.\n",
        "* **`os.path.basename()`:** Returns the base file name from a path.\n",
        "* **`os.path.splitext()`:** Splits a file name into its base name and extension.\n",
        "\n",
        "**2. File and Directory Management:**\n",
        "\n",
        "* **`os.mkdir()`:** Creates a new directory.\n",
        "* **`os.makedirs()`:** Creates a directory and any necessary parent directories.\n",
        "* **`os.rmdir()`:** Removes an empty directory.\n",
        "* **`os.remove()` or `os.unlink()`:** Deletes a file.\n",
        "* **`os.rename()`:** Renames a file or directory.\n",
        "* **`os.listdir()`:** Returns a list of files and directories in a specified directory.\n",
        "* **`os.chdir()`:** Changes the current working directory.\n",
        "* **`os.getcwd()`:** Returns the current working directory.\n",
        "\n",
        "**3. File Permissions and Metadata:**\n",
        "\n",
        "* **`os.chmod()`:** Changes the permissions of a file or directory.\n",
        "* **`os.stat()`:** Retrieves information about a file or directory (e.g., size, modification time).\n",
        "\n",
        "**4. File System Navigation:**\n",
        "\n",
        "* **`os.walk()`:** Generates file names in a directory tree by walking the tree top-down or bottom-up.\n",
        "\n",
        "**Example:**\n",
        "\n",
        "```python\n",
        "import os\n",
        "\n",
        "# Create a directory\n",
        "os.makedirs(\"my_directory/subdir\", exist_ok=True)\n",
        "\n",
        "# Create a file\n",
        "with open(\"my_directory/my_file.txt\", \"w\") as f:\n",
        "    f.write(\"Hello, world!\")\n",
        "\n",
        "# Check if the file exists\n",
        "if os.path.exists(\"my_directory/my_file.txt\"):\n",
        "    print(\"File exists!\")\n",
        "\n",
        "# Get the file size\n",
        "file_size = os.path.getsize(\"my_directory/my_file.txt\")\n",
        "print(f\"File size: {file_size} bytes\")\n",
        "\n",
        "# List files in the directory\n",
        "files = os.listdir(\"my_directory\")\n",
        "print(f\"Files in directory: {files}\")\n",
        "\n",
        "# Remove the file\n",
        "os.remove(\"my_directory/my_file.txt\")\n",
        "\n",
        "# Remove the directory\n",
        "os.rmdir(\"my_directory/subdir\")\n",
        "os.rmdir(\"my_directory\")\n",
        "```\n",
        "\n",
        "In essence, the `os` module provides the tools to interact with the file system at a lower level than the built-in file object. It allows you to perform operations that are essential for managing files and directories, such as creating, deleting, renaming, and navigating the file system.\n"
      ],
      "metadata": {
        "id": "JG9yvcSni1Ni"
      }
    },
    {
      "cell_type": "markdown",
      "source": [
        "**23. What are the challanges associated with memory management in Python?**"
      ],
      "metadata": {
        "id": "-ZfIapeti4Cm"
      }
    },
    {
      "cell_type": "markdown",
      "source": [
        "While Python's automatic memory management simplifies development, it's not without its challenges. Here are some of the key issues associated with memory management in Python:\n",
        "\n",
        "**1. Memory Leaks (Despite Garbage Collection):**\n",
        "\n",
        "* **Circular References:** Although the cyclic garbage collector helps, complex circular references involving custom objects or external resources can still lead to leaks.\n",
        "* **External Resources:** When Python interacts with external resources (e.g., database connections, file handles, network sockets), proper closure is crucial. If these resources aren't explicitly released, they can consume memory indefinitely.\n",
        "* **C Extensions:** Memory leaks can occur in C extensions if they don't properly manage memory allocation and deallocation.\n",
        "\n",
        "**2. Garbage Collection Overhead:**\n",
        "\n",
        "* **Performance Impact:** The garbage collector periodically scans the heap, which can introduce performance overhead, especially in applications with frequent object creation and destruction.\n",
        "* **Unpredictable Pauses:** The garbage collection process can cause unpredictable pauses in program execution, which can be problematic for real-time applications or applications with strict latency requirements.\n",
        "\n",
        "**3. The Global Interpreter Lock (GIL):**\n",
        "\n",
        "* **Multithreading Limitations:** The GIL restricts true parallelism in CPU-bound multithreaded Python programs. This can impact memory usage and performance, as threads might contend for the GIL, leading to increased memory consumption due to thread-local data.\n",
        "* **Memory Fragmentation:** In multithreaded applications, the GIL can contribute to memory fragmentation, where small, unused memory blocks become scattered throughout the heap, making it difficult to allocate larger blocks.\n",
        "\n",
        "**4. Memory Fragmentation:**\n",
        "\n",
        "* **Dynamic Allocation/Deallocation:** Frequent allocation and deallocation of objects can lead to memory fragmentation, where the heap becomes fragmented with small, unused memory blocks.\n",
        "* **Inefficient Allocation:** Fragmentation can make it difficult for the memory manager to allocate large contiguous blocks of memory, potentially leading to increased memory usage and reduced performance.\n",
        "\n",
        "**5. Large Data Sets:**\n",
        "\n",
        "* **Memory Consumption:** When working with large datasets, Python's dynamic typing and object-oriented nature can lead to increased memory consumption compared to lower-level languages.\n",
        "* **Inefficient Data Structures:** Using inefficient data structures or not optimizing memory usage can exacerbate memory consumption issues.\n",
        "\n",
        "**6. Difficulty in Profiling and Debugging:**\n",
        "\n",
        "* **Abstracted Memory Management:** Because memory management is largely automated, it can be more challenging to profile and debug memory-related issues.\n",
        "* **Tools:** While tools like `memory_profiler` and `objgraph` exist, they might not provide the same level of fine-grained control as tools in lower-level languages.\n",
        "\n",
        "**7. Cyclic References and Finalizers:**\n",
        "\n",
        "* **Destructors (``__del__``):** Relying on the `__del__` method for resource cleanup can be problematic due to the unpredictable timing of garbage collection and potential for cyclic reference issues.\n",
        "* **Finalization:** The order of object finalization is not guaranteed, which can lead to unexpected behavior in complex object graphs.\n",
        "\n",
        "**Mitigation Strategies:**\n",
        "\n",
        "* Use the `with` statement for resource management.\n",
        "* Minimize object creation and use generators/iterators for large datasets.\n",
        "* Use efficient data structures from the `collections` module.\n",
        "* Explicitly break cyclic references when possible.\n",
        "* Use memory profiling tools to identify memory bottlenecks.\n",
        "* Be cautious when using C extensions and ensure proper memory management.\n",
        "* Use multiprocessing for cpu bound tasks to bypass the GIL.\n"
      ],
      "metadata": {
        "id": "IGzY76uQkd_8"
      }
    },
    {
      "cell_type": "markdown",
      "source": [
        "**24. How do you raise an exception manually in Python?**"
      ],
      "metadata": {
        "id": "GTHqKgFxkhQ-"
      }
    },
    {
      "cell_type": "markdown",
      "source": [
        "You can manually raise an exception in Python using the `raise` keyword. This allows you to signal errors or exceptional conditions in your code, even if they aren't automatically generated by the interpreter.\n",
        "\n",
        "Here's how you do it:\n",
        "\n",
        "**1. Raising a Built-in Exception:**\n",
        "\n",
        "* You can raise any of Python's built-in exception types, such as `ValueError`, `TypeError`, `IndexError`, etc.\n",
        "* You can optionally provide an error message as an argument to the exception constructor.\n",
        "\n",
        "```python\n",
        "def divide(a, b):\n",
        "    if b == 0:\n",
        "        raise ZeroDivisionError(\"Cannot divide by zero.\")\n",
        "    return a / b\n",
        "\n",
        "try:\n",
        "    result = divide(10, 0)\n",
        "except ZeroDivisionError as e:\n",
        "    print(f\"Error: {e}\")\n",
        "```\n",
        "\n",
        "**2. Raising a Custom Exception:**\n",
        "\n",
        "* You can define your own custom exception classes by inheriting from the `Exception` class or one of its subclasses.\n",
        "* This is useful for creating specific error types that are relevant to your application.\n",
        "\n",
        "```python\n",
        "class MyCustomError(Exception):\n",
        "    def __init__(self, message):\n",
        "        super().__init__(message)\n",
        "\n",
        "def process_data(data):\n",
        "    if not isinstance(data, list):\n",
        "        raise MyCustomError(\"Data must be a list.\")\n",
        "    # ... process data ...\n",
        "\n",
        "try:\n",
        "    process_data(\"not a list\")\n",
        "except MyCustomError as e:\n",
        "    print(f\"Custom Error: {e}\")\n",
        "\n",
        "try:\n",
        "    process_data(123)\n",
        "except MyCustomError as e:\n",
        "    print(f\"Custom Error: {e}\")\n",
        "```\n",
        "\n",
        "**3. Raising an Exception with `raise from`:**\n",
        "\n",
        "* The `raise from` syntax allows you to chain exceptions, providing more context about the original cause of the error.\n",
        "* This is useful when you catch one exception and raise another related exception.\n",
        "\n",
        "```python\n",
        "def read_file(filename):\n",
        "    try:\n",
        "        with open(filename, \"r\") as f:\n",
        "            return f.read()\n",
        "    except FileNotFoundError as e:\n",
        "        raise RuntimeError(f\"Failed to read file: {filename}\") from e\n",
        "\n",
        "try:\n",
        "    content = read_file(\"nonexistent_file.txt\")\n",
        "except RuntimeError as e:\n",
        "    print(f\"Runtime Error: {e}\")\n",
        "    print(f\"Original Exception: {e.__cause__}\")\n",
        "```\n",
        "\n",
        "**Key Points:**\n",
        "\n",
        "* Use `raise` when you detect an error condition that your code cannot handle gracefully.\n",
        "* Provide informative error messages to help with debugging.\n",
        "* Create custom exceptions for application-specific error types.\n",
        "* Use `raise from` to chain exceptions and preserve the original error context.\n",
        "* It is considered good practice to only raise exceptions in situations where the program cannot continue without causing unintended consequences.\n"
      ],
      "metadata": {
        "id": "3lyRfyXvk1cZ"
      }
    },
    {
      "cell_type": "markdown",
      "source": [
        "**25. Why is it important to use multithreading in certain applications?**"
      ],
      "metadata": {
        "id": "HrFcqjPKk3s6"
      }
    },
    {
      "cell_type": "markdown",
      "source": [
        "Multithreading is important in certain applications because it allows for concurrent execution, which can significantly improve performance and responsiveness. Here's a breakdown of why it's crucial in specific scenarios:\n",
        "\n",
        "**1. Improved Responsiveness (Especially in GUI Applications):**\n",
        "\n",
        "* GUI applications often need to perform background tasks (e.g., loading data, processing files) while keeping the user interface responsive.\n",
        "* Multithreading allows these tasks to run in separate threads, preventing the main UI thread from being blocked.\n",
        "* This ensures a smooth user experience, even when the application is performing time-consuming operations.\n",
        "\n",
        "**2. Increased Performance for I/O-Bound Tasks:**\n",
        "\n",
        "* I/O-bound tasks involve waiting for external operations, such as network requests, file I/O, or database queries.\n",
        "* While one thread is waiting for I/O, other threads can continue executing, maximizing CPU utilization.\n",
        "* Multithreading can significantly improve the overall throughput of applications that perform many I/O operations.\n",
        "\n",
        "**3. Concurrent Processing:**\n",
        "\n",
        "* Applications that need to perform multiple independent tasks simultaneously can benefit from multithreading.\n",
        "* For example, a web server can use multiple threads to handle incoming requests concurrently, allowing it to serve multiple clients at the same time.\n",
        "* This can significantly improve the application's ability to handle high volumes of concurrent requests.\n",
        "\n",
        "**4. Background Tasks:**\n",
        "\n",
        "* Applications often need to perform background tasks, such as data synchronization, log processing, or periodic updates.\n",
        "* Multithreading allows these tasks to run in the background without interrupting the main application's execution.\n",
        "* This ensures that critical background operations are performed without affecting the user's experience.\n",
        "\n",
        "**5. Resource Sharing:**\n",
        "\n",
        "* Threads within the same process share the same memory space, which can simplify data sharing between different parts of the application.\n",
        "* This can be useful for applications that need to coordinate and share data between different tasks.\n",
        "\n",
        "**6. Parallelism (Limited in Python due to the GIL):**\n",
        "\n",
        "* While Python's Global Interpreter Lock (GIL) limits true parallelism for CPU-bound tasks, multithreading can still provide some performance benefits on multi-core systems.\n",
        "* The GIL allows only one thread to execute Python bytecode at a time, but threads can still execute concurrently when they are waiting for I/O or releasing the GIL.\n",
        "* In cases where the majority of the time is spent waiting on I/O, the GIL does not cause a large issue.\n",
        "\n",
        "**Specific Application Examples:**\n",
        "\n",
        "* **Web Servers:** Handling multiple client requests concurrently.\n",
        "* **Desktop Applications:** Keeping the UI responsive while performing background tasks.\n",
        "* **Network Applications:** Downloading multiple files or processing network data concurrently.\n",
        "* **Data Processing Applications:** Performing parallel data transformations or analysis.\n",
        "\n",
        "It is important to remember that multithreading introduces complexity, and careful synchronization is required to prevent race conditions and other concurrency-related issues.\n"
      ],
      "metadata": {
        "id": "tZHKg7OmlL9J"
      }
    },
    {
      "cell_type": "markdown",
      "source": [
        "**Practical Questions**"
      ],
      "metadata": {
        "id": "pJRD-X_mlN5H"
      }
    },
    {
      "cell_type": "markdown",
      "source": [
        "**1. How can you open a file for writing in Python and write a string to it?**"
      ],
      "metadata": {
        "id": "BTcqTHLSlTbc"
      }
    },
    {
      "cell_type": "code",
      "source": [
        "try:\n",
        "    with open(\"my_file.txt\", \"w\") as file:\n",
        "        file.write(\"This is the string I want to write.\\n\")\n",
        "        file.write(\"This is a second line of text.\\n\")\n",
        "    print(\"String written to file successfully.\")\n",
        "except Exception as e:\n",
        "    print(f\"An error occurred: {e}\")"
      ],
      "metadata": {
        "colab": {
          "base_uri": "https://localhost:8080/"
        },
        "id": "5i9bAuJWl9-5",
        "outputId": "003cc5fe-b5b7-415b-840e-3d22a4e0f0ad"
      },
      "execution_count": 1,
      "outputs": [
        {
          "output_type": "stream",
          "name": "stdout",
          "text": [
            "String written to file successfully.\n"
          ]
        }
      ]
    },
    {
      "cell_type": "markdown",
      "source": [
        "**2. Write a Python program to read the contents of a file and print each line.**"
      ],
      "metadata": {
        "id": "mrYPoTimmGAL"
      }
    },
    {
      "cell_type": "code",
      "source": [
        "def read_and_print_lines(filename):\n",
        "    \"\"\"Reads a file and prints each line.\"\"\"\n",
        "    try:\n",
        "        with open(filename, 'r') as file:\n",
        "            for line in file:\n",
        "                #Remove trailing newlines.\n",
        "                print(line.rstrip('\\n'))\n",
        "    except FileNotFoundError:\n",
        "        print(f\"Error: File '{filename}' not found.\")\n",
        "    except Exception as e:\n",
        "        print(f\"An unexpected error occurred: {e}\")\n",
        "\n"
      ],
      "metadata": {
        "id": "A4qi-vsmmbw4"
      },
      "execution_count": 3,
      "outputs": []
    },
    {
      "cell_type": "markdown",
      "source": [
        "**3. How would you handle a case where the file doesn't exist while trying to open it for reading?**"
      ],
      "metadata": {
        "id": "OdZAnlOsmkv7"
      }
    },
    {
      "cell_type": "code",
      "source": [
        "def read_file_safely(filename):\n",
        "    \"\"\"Reads a file and prints its contents, handling FileNotFoundError.\"\"\"\n",
        "    try:\n",
        "        with open(filename, 'r') as file:\n",
        "            for line in file:\n",
        "                print(line.rstrip('\\n'))  # Print each line\n",
        "    except FileNotFoundError:\n",
        "        print(f\"Error: The file '{filename}' does not exist.\")\n",
        "    except Exception as e: #Catch any other potential error.\n",
        "        print(f\"An unexpected error occurred: {e}\")\n",
        "\n",
        "# Example usage:\n",
        "filename = \"nonexistent_file.txt\"  # Replace with the file name you want to try to open.\n",
        "read_file_safely(filename)\n",
        "\n",
        "filename = \"my_file.txt\" #example of an existing file.\n",
        "try:\n",
        "    with open (filename, \"w\") as f:\n",
        "        f.write(\"test\")\n",
        "except Exception as e:\n",
        "    print(f\"Error creating test file {e}\")\n",
        "\n",
        "read_file_safely(filename)"
      ],
      "metadata": {
        "colab": {
          "base_uri": "https://localhost:8080/"
        },
        "id": "EIaB4omTnHIC",
        "outputId": "233d8c43-d7bb-4ea9-91bc-a0773b0ef1c2"
      },
      "execution_count": 4,
      "outputs": [
        {
          "output_type": "stream",
          "name": "stdout",
          "text": [
            "Error: The file 'nonexistent_file.txt' does not exist.\n",
            "test\n"
          ]
        }
      ]
    },
    {
      "cell_type": "markdown",
      "source": [
        "**4. Write a Python script that reads from one file and writes its content to another file.**"
      ],
      "metadata": {
        "id": "odqnvm-gnNwT"
      }
    },
    {
      "cell_type": "code",
      "source": [
        "def copy_file(source_filename, destination_filename):\n",
        "    \"\"\"Copies the content of one file to another.\"\"\"\n",
        "    try:\n",
        "        with open(source_filename, 'r') as source_file, open(destination_filename, 'w') as destination_file:\n",
        "            for line in source_file:\n",
        "                destination_file.write(line)\n",
        "        print(f\"File '{source_filename}' copied to '{destination_filename}' successfully.\")\n",
        "    except FileNotFoundError:\n",
        "        print(f\"Error: File '{source_filename}' not found.\")\n",
        "    except Exception as e:\n",
        "        print(f\"An unexpected error occurred: {e}\")\n",
        "\n",
        "# Example usage:\n",
        "source_filename = \"source.txt\"\n",
        "destination_filename = \"destination.txt\"\n",
        "\n",
        "# Create a sample source file for demonstration (optional)\n",
        "try:\n",
        "    with open(source_filename, 'w') as f:\n",
        "        f.write(\"Line 1 from source file.\\n\")\n",
        "        f.write(\"Line 2 from source file.\\n\")\n",
        "        f.write(\"Line 3 from source file.\")\n",
        "except Exception as e:\n",
        "    print(f\"Error creating sample source file: {e}\")\n",
        "\n",
        "copy_file(source_filename, destination_filename)"
      ],
      "metadata": {
        "colab": {
          "base_uri": "https://localhost:8080/"
        },
        "id": "YSgvqf4mnmn8",
        "outputId": "16d07220-47b2-4004-cb1c-03bb5f4fe0c9"
      },
      "execution_count": 5,
      "outputs": [
        {
          "output_type": "stream",
          "name": "stdout",
          "text": [
            "File 'source.txt' copied to 'destination.txt' successfully.\n"
          ]
        }
      ]
    },
    {
      "cell_type": "markdown",
      "source": [
        "**5. How would you catch and handle division by zero error in Python?**"
      ],
      "metadata": {
        "id": "QGASw35GnpVN"
      }
    },
    {
      "cell_type": "code",
      "source": [
        "def divide_numbers(numerator, denominator):\n",
        "    \"\"\"Divides two numbers and handles ZeroDivisionError.\"\"\"\n",
        "    try:\n",
        "        result = numerator / denominator\n",
        "        return result\n",
        "    except ZeroDivisionError:\n",
        "        print(\"Error: Division by zero is not allowed.\")\n",
        "        return None  # Or any other appropriate value\n",
        "\n",
        "# Example usage:\n",
        "numerator = 10\n",
        "denominator = 0\n",
        "\n",
        "result = divide_numbers(numerator, denominator)\n",
        "\n",
        "if result is not None:\n",
        "    print(f\"Result: {result}\")\n",
        "\n",
        "#Example of a valid division.\n",
        "numerator = 10\n",
        "denominator = 2\n",
        "\n",
        "result = divide_numbers(numerator, denominator)\n",
        "\n",
        "if result is not None:\n",
        "    print(f\"Result: {result}\")"
      ],
      "metadata": {
        "colab": {
          "base_uri": "https://localhost:8080/"
        },
        "id": "kIjyiVUIn5N5",
        "outputId": "b0abea9e-d9d8-469d-8b4d-d44eb408f14f"
      },
      "execution_count": 6,
      "outputs": [
        {
          "output_type": "stream",
          "name": "stdout",
          "text": [
            "Error: Division by zero is not allowed.\n",
            "Result: 5.0\n"
          ]
        }
      ]
    },
    {
      "cell_type": "markdown",
      "source": [
        "**6. Write a Python program that logs an error message to a log file when a division by zero exception occurs**"
      ],
      "metadata": {
        "id": "VBBRLF_Sn70S"
      }
    },
    {
      "cell_type": "code",
      "source": [
        "import logging\n",
        "\n",
        "def divide_numbers(numerator, denominator):\n",
        "    \"\"\"Divides two numbers and logs a ZeroDivisionError if it occurs.\"\"\"\n",
        "    try:\n",
        "        result = numerator / denominator\n",
        "        return result\n",
        "    except ZeroDivisionError:\n",
        "        logging.error(\"Division by zero occurred.\")\n",
        "        return None  # Or any other appropriate value\n",
        "\n",
        "# Configure logging\n",
        "logging.basicConfig(filename='division_errors.log', level=logging.ERROR,\n",
        "                    format='%(asctime)s - %(levelname)s - %(message)s')\n",
        "\n",
        "# Example usage:\n",
        "numerator = 10\n",
        "denominator = 0\n",
        "\n",
        "result = divide_numbers(numerator, denominator)\n",
        "\n",
        "if result is not None:\n",
        "    print(f\"Result: {result}\")\n",
        "\n",
        "#Example of valid division.\n",
        "numerator = 10\n",
        "denominator = 2\n",
        "\n",
        "result = divide_numbers(numerator, denominator)\n",
        "\n",
        "if result is not None:\n",
        "    print(f\"Result: {result}\")"
      ],
      "metadata": {
        "colab": {
          "base_uri": "https://localhost:8080/"
        },
        "id": "f9EkTQRdou3d",
        "outputId": "5e9fad8b-edd9-41b7-a375-75e054d681f6"
      },
      "execution_count": 7,
      "outputs": [
        {
          "output_type": "stream",
          "name": "stderr",
          "text": [
            "ERROR:root:Division by zero occurred.\n"
          ]
        },
        {
          "output_type": "stream",
          "name": "stdout",
          "text": [
            "Result: 5.0\n"
          ]
        }
      ]
    },
    {
      "cell_type": "markdown",
      "source": [
        "**7. How do you log information at different levels (INFO, ERROR, WARNING) in Python using the logging module?**"
      ],
      "metadata": {
        "id": "oOIdDXyXoxz7"
      }
    },
    {
      "cell_type": "code",
      "source": [
        "import logging\n",
        "\n",
        "# Configure logging\n",
        "logging.basicConfig(filename='my_app.log', level=logging.DEBUG, #set to the lowest level you want to record.\n",
        "                    format='%(asctime)s - %(levelname)s - %(message)s')\n",
        "\n",
        "def perform_operation(value):\n",
        "    \"\"\"Performs an operation and logs information at different levels.\"\"\"\n",
        "    logging.info(f\"Starting operation with value: {value}\")\n",
        "\n",
        "    if value < 0:\n",
        "        logging.warning(f\"Value is negative: {value}\")\n",
        "        return None  # Or handle the warning appropriately\n",
        "\n",
        "    try:\n",
        "        result = 10 / value\n",
        "        logging.debug(f\"Division result: {result}\") #only logs if level is debug or lower.\n",
        "        return result\n",
        "    except ZeroDivisionError:\n",
        "        logging.error(\"Division by zero occurred.\")\n",
        "        return None\n",
        "    except Exception as e:\n",
        "        logging.critical(f\"An unexpected critical error occurred: {e}\")\n",
        "        return None\n",
        "\n",
        "# Example usage:\n",
        "perform_operation(5)\n",
        "perform_operation(-2)\n",
        "perform_operation(0)\n",
        "perform_operation(\"string\") #this will cause a critical error."
      ],
      "metadata": {
        "colab": {
          "base_uri": "https://localhost:8080/",
          "height": 332
        },
        "id": "Bo3C8yNrpcmn",
        "outputId": "c93d12d1-3e42-48e5-c5d3-4aeecc1c7dd4"
      },
      "execution_count": 8,
      "outputs": [
        {
          "output_type": "stream",
          "name": "stderr",
          "text": [
            "WARNING:root:Value is negative: -2\n",
            "ERROR:root:Division by zero occurred.\n"
          ]
        },
        {
          "output_type": "error",
          "ename": "TypeError",
          "evalue": "'<' not supported between instances of 'str' and 'int'",
          "traceback": [
            "\u001b[0;31m---------------------------------------------------------------------------\u001b[0m",
            "\u001b[0;31mTypeError\u001b[0m                                 Traceback (most recent call last)",
            "\u001b[0;32m<ipython-input-8-c1e48c0c4a0f>\u001b[0m in \u001b[0;36m<cell line: 0>\u001b[0;34m()\u001b[0m\n\u001b[1;32m     28\u001b[0m \u001b[0mperform_operation\u001b[0m\u001b[0;34m(\u001b[0m\u001b[0;34m-\u001b[0m\u001b[0;36m2\u001b[0m\u001b[0;34m)\u001b[0m\u001b[0;34m\u001b[0m\u001b[0;34m\u001b[0m\u001b[0m\n\u001b[1;32m     29\u001b[0m \u001b[0mperform_operation\u001b[0m\u001b[0;34m(\u001b[0m\u001b[0;36m0\u001b[0m\u001b[0;34m)\u001b[0m\u001b[0;34m\u001b[0m\u001b[0;34m\u001b[0m\u001b[0m\n\u001b[0;32m---> 30\u001b[0;31m \u001b[0mperform_operation\u001b[0m\u001b[0;34m(\u001b[0m\u001b[0;34m\"string\"\u001b[0m\u001b[0;34m)\u001b[0m \u001b[0;31m#this will cause a critical error.\u001b[0m\u001b[0;34m\u001b[0m\u001b[0;34m\u001b[0m\u001b[0m\n\u001b[0m",
            "\u001b[0;32m<ipython-input-8-c1e48c0c4a0f>\u001b[0m in \u001b[0;36mperform_operation\u001b[0;34m(value)\u001b[0m\n\u001b[1;32m      9\u001b[0m     \u001b[0mlogging\u001b[0m\u001b[0;34m.\u001b[0m\u001b[0minfo\u001b[0m\u001b[0;34m(\u001b[0m\u001b[0;34mf\"Starting operation with value: {value}\"\u001b[0m\u001b[0;34m)\u001b[0m\u001b[0;34m\u001b[0m\u001b[0;34m\u001b[0m\u001b[0m\n\u001b[1;32m     10\u001b[0m \u001b[0;34m\u001b[0m\u001b[0m\n\u001b[0;32m---> 11\u001b[0;31m     \u001b[0;32mif\u001b[0m \u001b[0mvalue\u001b[0m \u001b[0;34m<\u001b[0m \u001b[0;36m0\u001b[0m\u001b[0;34m:\u001b[0m\u001b[0;34m\u001b[0m\u001b[0;34m\u001b[0m\u001b[0m\n\u001b[0m\u001b[1;32m     12\u001b[0m         \u001b[0mlogging\u001b[0m\u001b[0;34m.\u001b[0m\u001b[0mwarning\u001b[0m\u001b[0;34m(\u001b[0m\u001b[0;34mf\"Value is negative: {value}\"\u001b[0m\u001b[0;34m)\u001b[0m\u001b[0;34m\u001b[0m\u001b[0;34m\u001b[0m\u001b[0m\n\u001b[1;32m     13\u001b[0m         \u001b[0;32mreturn\u001b[0m \u001b[0;32mNone\u001b[0m  \u001b[0;31m# Or handle the warning appropriately\u001b[0m\u001b[0;34m\u001b[0m\u001b[0;34m\u001b[0m\u001b[0m\n",
            "\u001b[0;31mTypeError\u001b[0m: '<' not supported between instances of 'str' and 'int'"
          ]
        }
      ]
    },
    {
      "cell_type": "markdown",
      "source": [
        "**8. Write a program to handle a file opening error using exception handling.**"
      ],
      "metadata": {
        "id": "LMHQa_S7plu5"
      }
    },
    {
      "cell_type": "code",
      "source": [
        "def open_file_safely(filename):\n",
        "    \"\"\"Opens a file and handles potential FileNotFoundError.\"\"\"\n",
        "    try:\n",
        "        file = open(filename, 'r')  # Attempt to open the file\n",
        "        # If the file is opened successfully, you can perform operations here\n",
        "        for line in file:\n",
        "            print(line.rstrip('\\n')) #print the file contents.\n",
        "        file.close() #Close the file after you are finished.\n",
        "        print(f\"File '{filename}' opened and processed successfully.\")\n",
        "\n",
        "    except FileNotFoundError:\n",
        "        print(f\"Error: File '{filename}' not found.\")\n",
        "    except PermissionError:\n",
        "        print(f\"Error: Permission denied to open '{filename}'.\")\n",
        "    except Exception as e:\n",
        "        print(f\"An unexpected error occurred: {e}\")\n",
        "\n",
        "# Example usage:\n",
        "filename1 = \"my_file.txt\"  # Replace with an existing file name for testing.\n",
        "filename2 = \"nonexistent_file.txt\" #Replace with a non existing file name for testing.\n",
        "filename3 = \"/root/test.txt\" #test a permission error.\n",
        "\n",
        "#Create a test file.\n",
        "try:\n",
        "    with open(filename1, \"w\") as f:\n",
        "        f.write(\"test file\")\n",
        "except Exception as e:\n",
        "    print(f\"Error creating test file: {e}\")\n",
        "\n",
        "open_file_safely(filename1)\n",
        "open_file_safely(filename2)\n",
        "open_file_safely(filename3) #This will likely cause a permission error."
      ],
      "metadata": {
        "colab": {
          "base_uri": "https://localhost:8080/"
        },
        "id": "NWVxos3GqCkL",
        "outputId": "eb5cb17d-aa63-480f-80f0-d84327181bdb"
      },
      "execution_count": 9,
      "outputs": [
        {
          "output_type": "stream",
          "name": "stdout",
          "text": [
            "test file\n",
            "File 'my_file.txt' opened and processed successfully.\n",
            "Error: File 'nonexistent_file.txt' not found.\n",
            "Error: File '/root/test.txt' not found.\n"
          ]
        }
      ]
    },
    {
      "cell_type": "markdown",
      "source": [
        "**9. How can you read a file line by line and store its content in a list in Python?**"
      ],
      "metadata": {
        "id": "aJ2M05IfqFeN"
      }
    },
    {
      "cell_type": "code",
      "source": [
        "def read_file_to_list(filename):\n",
        "    \"\"\"Reads a file line by line and stores its content in a list.\"\"\"\n",
        "    try:\n",
        "        with open(filename, 'r') as file:\n",
        "            lines = []\n",
        "            for line in file:\n",
        "                lines.append(line.rstrip('\\n'))  # Remove trailing newline characters\n",
        "            return lines\n",
        "    except FileNotFoundError:\n",
        "        print(f\"Error: File '{filename}' not found.\")\n",
        "        return None\n",
        "    except Exception as e:\n",
        "        print(f\"An unexpected error occurred: {e}\")\n",
        "        return None\n",
        "\n",
        "# Example usage:\n",
        "filename = \"my_file.txt\"\n",
        "\n",
        "# Create a sample file for demonstration (optional)\n",
        "try:\n",
        "    with open(filename, 'w') as f:\n",
        "        f.write(\"Line 1\\nLine 2\\nLine 3\\n\")\n",
        "except Exception as e:\n",
        "    print(f\"Error creating test file {e}\")\n",
        "\n",
        "file_lines = read_file_to_list(filename)\n",
        "\n",
        "if file_lines:\n",
        "    print(file_lines)"
      ],
      "metadata": {
        "colab": {
          "base_uri": "https://localhost:8080/"
        },
        "id": "XM3PVqLbqgHQ",
        "outputId": "c7e986bc-8671-4de8-f93f-02f219ea4c4f"
      },
      "execution_count": 10,
      "outputs": [
        {
          "output_type": "stream",
          "name": "stdout",
          "text": [
            "['Line 1', 'Line 2', 'Line 3']\n"
          ]
        }
      ]
    },
    {
      "cell_type": "markdown",
      "source": [
        "**10. How can you append data to an existing file in Python?**"
      ],
      "metadata": {
        "id": "AbiGO1K7qjTb"
      }
    },
    {
      "cell_type": "code",
      "source": [
        "def append_to_file(filename, data_to_append):\n",
        "    \"\"\"Appends data to an existing file.\"\"\"\n",
        "    try:\n",
        "        with open(filename, 'a') as file:\n",
        "            file.write(data_to_append)\n",
        "        print(f\"Data appended to '{filename}' successfully.\")\n",
        "    except FileNotFoundError:\n",
        "        print(f\"Error: File '{filename}' not found.\")\n",
        "    except Exception as e:\n",
        "        print(f\"An unexpected error occurred: {e}\")\n",
        "\n",
        "# Example usage:\n",
        "filename = \"my_file.txt\"\n",
        "\n",
        "# Create a sample file if it doesn't exist\n",
        "try:\n",
        "    with open(filename, 'w') as f:\n",
        "        f.write(\"Initial content.\\n\")\n",
        "except Exception as e:\n",
        "    print(f\"Error creating initial file: {e}\")\n",
        "\n",
        "data_to_append = \"This is the appended data.\\n\"\n",
        "append_to_file(filename, data_to_append)\n",
        "\n",
        "data_to_append = \"This is the second line of appended data.\\n\"\n",
        "append_to_file(filename, data_to_append)\n",
        "\n",
        "#Read the file to verify the contents.\n",
        "try:\n",
        "    with open(filename, 'r') as file:\n",
        "        for line in file:\n",
        "            print(line, end=\"\")\n",
        "except Exception as e:\n",
        "    print(f\"Error reading file to verify: {e}\")"
      ],
      "metadata": {
        "colab": {
          "base_uri": "https://localhost:8080/"
        },
        "id": "DI3qMitSqz3p",
        "outputId": "947a3642-5362-467b-8a26-718e1f18b59c"
      },
      "execution_count": 11,
      "outputs": [
        {
          "output_type": "stream",
          "name": "stdout",
          "text": [
            "Data appended to 'my_file.txt' successfully.\n",
            "Data appended to 'my_file.txt' successfully.\n",
            "Initial content.\n",
            "This is the appended data.\n",
            "This is the second line of appended data.\n"
          ]
        }
      ]
    },
    {
      "cell_type": "markdown",
      "source": [
        "**11. Write a Python program that uses a try-except block to handle an error when attempting to access a dictionary key that doesn't exist.**"
      ],
      "metadata": {
        "id": "DUOymbCpq2SQ"
      }
    },
    {
      "cell_type": "code",
      "source": [
        "def access_dictionary_key(my_dict, key):\n",
        "    \"\"\"Accesses a dictionary key and handles KeyError.\"\"\"\n",
        "    try:\n",
        "        value = my_dict[key]\n",
        "        print(f\"Value for key '{key}': {value}\")\n",
        "        return value\n",
        "    except KeyError:\n",
        "        print(f\"Error: Key '{key}' not found in the dictionary.\")\n",
        "        return None  # Or return a default value, or raise a different exception.\n",
        "    except Exception as e: #Catch any other potential error.\n",
        "        print(f\"An unexpected error occurred: {e}\")\n",
        "        return None\n",
        "\n",
        "# Example usage:\n",
        "my_dict = {\"name\": \"Alice\", \"age\": 30, \"city\": \"New York\"}\n",
        "\n",
        "access_dictionary_key(my_dict, \"name\")  # Existing key\n",
        "access_dictionary_key(my_dict, \"occupation\")  # Non-existent key\n",
        "access_dictionary_key(my_dict, 123) #Non string key, that also doesn't exist."
      ],
      "metadata": {
        "colab": {
          "base_uri": "https://localhost:8080/"
        },
        "id": "xW7BtCW-rTZI",
        "outputId": "a1602d9c-e5c1-439f-8b49-fcd4913fe817"
      },
      "execution_count": 12,
      "outputs": [
        {
          "output_type": "stream",
          "name": "stdout",
          "text": [
            "Value for key 'name': Alice\n",
            "Error: Key 'occupation' not found in the dictionary.\n",
            "Error: Key '123' not found in the dictionary.\n"
          ]
        }
      ]
    },
    {
      "cell_type": "markdown",
      "source": [
        "**12. Write a program that demonstrates using multiple except blocks to handle different types of exceptions.**"
      ],
      "metadata": {
        "id": "-v6VKnIhrYYu"
      }
    },
    {
      "cell_type": "code",
      "source": [
        "def process_input(input_data):\n",
        "    \"\"\"Processes input data and handles different exceptions.\"\"\"\n",
        "    try:\n",
        "        # Attempt to convert input to an integer\n",
        "        num = int(input_data)\n",
        "\n",
        "        # Attempt division\n",
        "        result = 10 / num\n",
        "\n",
        "        # Attempt list access\n",
        "        my_list = [1, 2, 3]\n",
        "        value = my_list[num]\n",
        "\n",
        "        print(f\"Result: {result}, List Value: {value}\")\n",
        "\n",
        "    except ValueError:\n",
        "        print(\"Error: Invalid input. Please enter an integer.\")\n",
        "    except ZeroDivisionError:\n",
        "        print(\"Error: Division by zero is not allowed.\")\n",
        "    except IndexError:\n",
        "        print(\"Error: Index out of range.\")\n",
        "    except TypeError:\n",
        "        print(\"Error: Type Error.\")\n",
        "    except Exception as e: #Catch any other potential error.\n",
        "        print(f\"An unexpected error occurred: {e}\")\n",
        "\n",
        "# Example usage:\n",
        "process_input(\"5\")  # Valid input\n",
        "process_input(\"abc\")  # ValueError\n",
        "process_input(\"0\")  # ZeroDivisionError\n",
        "process_input(\"10\")  #IndexError\n",
        "process_input(None) #TypeError"
      ],
      "metadata": {
        "colab": {
          "base_uri": "https://localhost:8080/"
        },
        "id": "kYCnI3WVsI2R",
        "outputId": "c83519f0-2c0e-45c3-c44e-86773f3084b2"
      },
      "execution_count": 13,
      "outputs": [
        {
          "output_type": "stream",
          "name": "stdout",
          "text": [
            "Error: Index out of range.\n",
            "Error: Invalid input. Please enter an integer.\n",
            "Error: Division by zero is not allowed.\n",
            "Error: Index out of range.\n",
            "Error: Type Error.\n"
          ]
        }
      ]
    },
    {
      "cell_type": "markdown",
      "source": [
        "**13. How would you check if a file exists before attempting to read it in Python?**"
      ],
      "metadata": {
        "id": "aA9T3WKssMkw"
      }
    },
    {
      "cell_type": "code",
      "source": [
        "import os.path\n",
        "\n",
        "def read_file_if_exists(filename):\n",
        "    \"\"\"Reads a file if it exists.\"\"\"\n",
        "    if os.path.exists(filename):\n",
        "        try:\n",
        "            with open(filename, 'r') as file:\n",
        "                for line in file:\n",
        "                    print(line.rstrip('\\n'))\n",
        "            print(f\"File '{filename}' read successfully.\")\n",
        "        except Exception as e:\n",
        "            print(f\"An error occurred while reading '{filename}': {e}\")\n",
        "    else:\n",
        "        print(f\"Error: File '{filename}' does not exist.\")\n",
        "\n",
        "# Example usage:\n",
        "filename1 = \"my_file.txt\" #example of existing file.\n",
        "filename2 = \"nonexistent_file.txt\"\n",
        "\n",
        "#Create a test file.\n",
        "try:\n",
        "    with open(filename1, \"w\") as f:\n",
        "        f.write(\"test file\")\n",
        "except Exception as e:\n",
        "    print(f\"Error creating test file: {e}\")\n",
        "\n",
        "read_file_if_exists(filename1)\n",
        "read_file_if_exists(filename2)"
      ],
      "metadata": {
        "colab": {
          "base_uri": "https://localhost:8080/"
        },
        "id": "0GZU76ukstL-",
        "outputId": "78d500b1-dd11-4998-da09-e1c3c1a00d3a"
      },
      "execution_count": 14,
      "outputs": [
        {
          "output_type": "stream",
          "name": "stdout",
          "text": [
            "test file\n",
            "File 'my_file.txt' read successfully.\n",
            "Error: File 'nonexistent_file.txt' does not exist.\n"
          ]
        }
      ]
    },
    {
      "cell_type": "markdown",
      "source": [
        "**14. Write a program that uses the logging module to log both informational and error messages.**"
      ],
      "metadata": {
        "id": "w8wVwDrns3A2"
      }
    },
    {
      "cell_type": "code",
      "source": [
        "import logging\n",
        "\n",
        "def process_data(data):\n",
        "    \"\"\"Processes data and logs informational and error messages.\"\"\"\n",
        "    logging.info(\"Starting data processing...\")\n",
        "\n",
        "    if not isinstance(data, list):\n",
        "        logging.error(\"Input data is not a list.\")\n",
        "        return None  # Indicate failure\n",
        "\n",
        "    try:\n",
        "        # Simulate some data processing that might cause an error\n",
        "        result = sum(data) / len(data)\n",
        "        logging.info(f\"Data processing successful. Average: {result}\")\n",
        "        return result\n",
        "    except ZeroDivisionError:\n",
        "        logging.error(\"Cannot calculate average of an empty list.\")\n",
        "        return None\n",
        "    except TypeError as e:\n",
        "        logging.error(f\"Type error during processing: {e}\")\n",
        "        return None\n",
        "    except Exception as e:\n",
        "        logging.critical(f\"An unexpected critical error occurred: {e}\")\n",
        "        return None\n",
        "\n",
        "# Configure logging\n",
        "logging.basicConfig(filename='data_processing.log', level=logging.INFO, # only info and above will be logged.\n",
        "                    format='%(asctime)s - %(levelname)s - %(message)s')\n",
        "\n",
        "# Example usage:\n",
        "data1 = [1, 2, 3, 4, 5]\n",
        "process_data(data1)\n",
        "\n",
        "data2 = []\n",
        "process_data(data2)\n",
        "\n",
        "data3 = \"not a list\"\n",
        "process_data(data3)\n",
        "\n",
        "data4 = [1,2, 'a'] #test type error.\n",
        "process_data(data4)\n",
        "\n",
        "logging.info(\"Program execution completed.\")"
      ],
      "metadata": {
        "colab": {
          "base_uri": "https://localhost:8080/"
        },
        "id": "hdL0SCRbtgJy",
        "outputId": "4ec9957d-d088-4d41-cc3d-a1a256966b2a"
      },
      "execution_count": 15,
      "outputs": [
        {
          "output_type": "stream",
          "name": "stderr",
          "text": [
            "ERROR:root:Cannot calculate average of an empty list.\n",
            "ERROR:root:Input data is not a list.\n",
            "ERROR:root:Type error during processing: unsupported operand type(s) for +: 'int' and 'str'\n"
          ]
        }
      ]
    },
    {
      "cell_type": "markdown",
      "source": [
        "**15. Write a Python program that prints the content of a file and handles the case when the file is empty.**"
      ],
      "metadata": {
        "id": "OYLORi_et5FD"
      }
    },
    {
      "cell_type": "code",
      "source": [
        "def print_file_contents(filename):\n",
        "    \"\"\"Prints the content of a file and handles empty files.\"\"\"\n",
        "    try:\n",
        "        with open(filename, 'r') as file:\n",
        "            content = file.read()\n",
        "            if not content:  # Check if the file is empty\n",
        "                print(f\"File '{filename}' is empty.\")\n",
        "            else:\n",
        "                print(content)\n",
        "        print(f\"File '{filename}' processed successfully.\")\n",
        "\n",
        "    except FileNotFoundError:\n",
        "        print(f\"Error: File '{filename}' not found.\")\n",
        "    except Exception as e:\n",
        "        print(f\"An unexpected error occurred: {e}\")\n",
        "\n",
        "# Example usage:\n",
        "filename1 = \"empty_file.txt\"\n",
        "filename2 = \"non_empty_file.txt\"\n",
        "\n",
        "# Create example files.\n",
        "try:\n",
        "    with open(filename1, \"w\") as f:\n",
        "        pass #create empty file.\n",
        "    with open(filename2, \"w\") as f:\n",
        "        f.write(\"This is a non-empty file.\")\n",
        "except Exception as e:\n",
        "    print(f\"Error creating test files: {e}\")\n",
        "\n",
        "print_file_contents(filename1)\n",
        "print_file_contents(filename2)"
      ],
      "metadata": {
        "colab": {
          "base_uri": "https://localhost:8080/"
        },
        "id": "1KiKskIAvHo4",
        "outputId": "4a51c3ba-a3b9-4dea-b6d3-08694ba2fb3e"
      },
      "execution_count": 16,
      "outputs": [
        {
          "output_type": "stream",
          "name": "stdout",
          "text": [
            "File 'empty_file.txt' is empty.\n",
            "File 'empty_file.txt' processed successfully.\n",
            "This is a non-empty file.\n",
            "File 'non_empty_file.txt' processed successfully.\n"
          ]
        }
      ]
    },
    {
      "cell_type": "markdown",
      "source": [
        "**16. Demonstrate how to use memory profilling to check the memory usage of a small program.**"
      ],
      "metadata": {
        "id": "9R5uZycZvP3D"
      }
    },
    {
      "cell_type": "code",
      "source": [
        "import memory_profiler\n",
        "\n",
        "@memory_profiler.profile\n",
        "def process_data(data):\n",
        "    \"\"\"Processes data and returns a new list.\"\"\"\n",
        "    result = []\n",
        "    for item in data:\n",
        "        result.append(item * 2)\n",
        "    return result\n",
        "\n",
        "if __name__ == \"__main__\":\n",
        "    data = list(range(100000))  # Create a large list\n",
        "    result = process_data(data)\n",
        "    print(f\"Result: {result[:10]}...\") #Print the first 10 elements.\n",
        "\n",
        "#To run this:\n",
        "#1. install memory_profiler: pip install memory_profiler\n",
        "#2. run from command line: python -m memory_profiler your_script_name.py"
      ],
      "metadata": {
        "colab": {
          "base_uri": "https://localhost:8080/",
          "height": 384
        },
        "id": "zThbaWPsv_Zs",
        "outputId": "ca329be8-43fa-4437-f0de-b611695b7343"
      },
      "execution_count": 17,
      "outputs": [
        {
          "output_type": "error",
          "ename": "ModuleNotFoundError",
          "evalue": "No module named 'memory_profiler'",
          "traceback": [
            "\u001b[0;31m---------------------------------------------------------------------------\u001b[0m",
            "\u001b[0;31mModuleNotFoundError\u001b[0m                       Traceback (most recent call last)",
            "\u001b[0;32m<ipython-input-17-919a87da5d18>\u001b[0m in \u001b[0;36m<cell line: 0>\u001b[0;34m()\u001b[0m\n\u001b[0;32m----> 1\u001b[0;31m \u001b[0;32mimport\u001b[0m \u001b[0mmemory_profiler\u001b[0m\u001b[0;34m\u001b[0m\u001b[0;34m\u001b[0m\u001b[0m\n\u001b[0m\u001b[1;32m      2\u001b[0m \u001b[0;34m\u001b[0m\u001b[0m\n\u001b[1;32m      3\u001b[0m \u001b[0;34m@\u001b[0m\u001b[0mmemory_profiler\u001b[0m\u001b[0;34m.\u001b[0m\u001b[0mprofile\u001b[0m\u001b[0;34m\u001b[0m\u001b[0;34m\u001b[0m\u001b[0m\n\u001b[1;32m      4\u001b[0m \u001b[0;32mdef\u001b[0m \u001b[0mprocess_data\u001b[0m\u001b[0;34m(\u001b[0m\u001b[0mdata\u001b[0m\u001b[0;34m)\u001b[0m\u001b[0;34m:\u001b[0m\u001b[0;34m\u001b[0m\u001b[0;34m\u001b[0m\u001b[0m\n\u001b[1;32m      5\u001b[0m     \u001b[0;34m\"\"\"Processes data and returns a new list.\"\"\"\u001b[0m\u001b[0;34m\u001b[0m\u001b[0;34m\u001b[0m\u001b[0m\n",
            "\u001b[0;31mModuleNotFoundError\u001b[0m: No module named 'memory_profiler'",
            "",
            "\u001b[0;31m---------------------------------------------------------------------------\u001b[0;32m\nNOTE: If your import is failing due to a missing package, you can\nmanually install dependencies using either !pip or !apt.\n\nTo view examples of installing some common dependencies, click the\n\"Open Examples\" button below.\n\u001b[0;31m---------------------------------------------------------------------------\u001b[0m\n"
          ],
          "errorDetails": {
            "actions": [
              {
                "action": "open_url",
                "actionText": "Open Examples",
                "url": "/notebooks/snippets/importing_libraries.ipynb"
              }
            ]
          }
        }
      ]
    },
    {
      "cell_type": "markdown",
      "source": [
        "**17. Write a Python program to create and write a list of numbers to a file , one number per line.**"
      ],
      "metadata": {
        "id": "0yD-5Uy8wKvv"
      }
    },
    {
      "cell_type": "code",
      "source": [
        "def write_numbers_to_file(filename, numbers):\n",
        "    \"\"\"Writes a list of numbers to a file, one number per line.\"\"\"\n",
        "    try:\n",
        "        with open(filename, 'w') as file:\n",
        "            for number in numbers:\n",
        "                file.write(str(number) + '\\n')  # Convert to string and add newline\n",
        "        print(f\"Numbers written to '{filename}' successfully.\")\n",
        "    except Exception as e:\n",
        "        print(f\"An error occurred: {e}\")\n",
        "\n",
        "# Example usage:\n",
        "filename = \"numbers.txt\"\n",
        "numbers = [10, 25, 3, 42, 17]\n",
        "\n",
        "write_numbers_to_file(filename, numbers)\n",
        "\n",
        "#Optional: read the file to verify.\n",
        "try:\n",
        "    with open(filename, 'r') as file:\n",
        "        for line in file:\n",
        "            print(line.rstrip('\\n')) #Print the file contents.\n",
        "except Exception as e:\n",
        "    print(f\"Error reading file to verify: {e}\")"
      ],
      "metadata": {
        "colab": {
          "base_uri": "https://localhost:8080/"
        },
        "id": "I0BUq9rDxDvj",
        "outputId": "44036d62-2641-4e62-f8ee-d2dd9e4d45cf"
      },
      "execution_count": 18,
      "outputs": [
        {
          "output_type": "stream",
          "name": "stdout",
          "text": [
            "Numbers written to 'numbers.txt' successfully.\n",
            "10\n",
            "25\n",
            "3\n",
            "42\n",
            "17\n"
          ]
        }
      ]
    },
    {
      "cell_type": "markdown",
      "source": [
        "**18. How would you implement a basic logging setup that logs to a file with rotation after 1 MB?**"
      ],
      "metadata": {
        "id": "aiAuQtUGxMJL"
      }
    },
    {
      "cell_type": "code",
      "source": [
        "import logging\n",
        "import logging.handlers\n",
        "\n",
        "def setup_rotating_file_logger(filename, max_bytes=1024 * 1024, backup_count=5):\n",
        "    \"\"\"Sets up a rotating file logger.\"\"\"\n",
        "\n",
        "    logger = logging.getLogger(__name__)  # Or use a specific logger name\n",
        "    logger.setLevel(logging.INFO)  # Set the desired logging level\n",
        "\n",
        "    # Create a rotating file handler\n",
        "    handler = logging.handlers.RotatingFileHandler(\n",
        "        filename,\n",
        "        maxBytes=max_bytes,\n",
        "        backupCount=backup_count,\n",
        "    )\n",
        "\n",
        "    # Create a formatter\n",
        "    formatter = logging.Formatter('%(asctime)s - %(levelname)s - %(message)s')\n",
        "    handler.setFormatter(formatter)\n",
        "\n",
        "    # Add the handler to the logger\n",
        "    logger.addHandler(handler)\n",
        "\n",
        "    return logger\n",
        "\n",
        "# Example usage:\n",
        "log_filename = \"my_app.log\"\n",
        "logger = setup_rotating_file_logger(log_filename)\n",
        "\n",
        "# Log some messages\n",
        "logger.info(\"Application started.\")\n",
        "logger.warning(\"Something might be wrong.\")\n",
        "logger.error(\"An error occurred.\")\n",
        "\n",
        "# Simulate a lot of logging, to test rotation.\n",
        "for i in range(200):\n",
        "  logger.info(f\"Log number: {i}\")\n",
        "\n",
        "logger.info(\"Application finished.\")"
      ],
      "metadata": {
        "colab": {
          "base_uri": "https://localhost:8080/"
        },
        "id": "PmGahxuizL7L",
        "outputId": "16b2364a-4553-45e0-8d3c-8c5f40a316a5"
      },
      "execution_count": 19,
      "outputs": [
        {
          "output_type": "stream",
          "name": "stderr",
          "text": [
            "INFO:__main__:Application started.\n",
            "WARNING:__main__:Something might be wrong.\n",
            "ERROR:__main__:An error occurred.\n",
            "INFO:__main__:Log number: 0\n",
            "INFO:__main__:Log number: 1\n",
            "INFO:__main__:Log number: 2\n",
            "INFO:__main__:Log number: 3\n",
            "INFO:__main__:Log number: 4\n",
            "INFO:__main__:Log number: 5\n",
            "INFO:__main__:Log number: 6\n",
            "INFO:__main__:Log number: 7\n",
            "INFO:__main__:Log number: 8\n",
            "INFO:__main__:Log number: 9\n",
            "INFO:__main__:Log number: 10\n",
            "INFO:__main__:Log number: 11\n",
            "INFO:__main__:Log number: 12\n",
            "INFO:__main__:Log number: 13\n",
            "INFO:__main__:Log number: 14\n",
            "INFO:__main__:Log number: 15\n",
            "INFO:__main__:Log number: 16\n",
            "INFO:__main__:Log number: 17\n",
            "INFO:__main__:Log number: 18\n",
            "INFO:__main__:Log number: 19\n",
            "INFO:__main__:Log number: 20\n",
            "INFO:__main__:Log number: 21\n",
            "INFO:__main__:Log number: 22\n",
            "INFO:__main__:Log number: 23\n",
            "INFO:__main__:Log number: 24\n",
            "INFO:__main__:Log number: 25\n",
            "INFO:__main__:Log number: 26\n",
            "INFO:__main__:Log number: 27\n",
            "INFO:__main__:Log number: 28\n",
            "INFO:__main__:Log number: 29\n",
            "INFO:__main__:Log number: 30\n",
            "INFO:__main__:Log number: 31\n",
            "INFO:__main__:Log number: 32\n",
            "INFO:__main__:Log number: 33\n",
            "INFO:__main__:Log number: 34\n",
            "INFO:__main__:Log number: 35\n",
            "INFO:__main__:Log number: 36\n",
            "INFO:__main__:Log number: 37\n",
            "INFO:__main__:Log number: 38\n",
            "INFO:__main__:Log number: 39\n",
            "INFO:__main__:Log number: 40\n",
            "INFO:__main__:Log number: 41\n",
            "INFO:__main__:Log number: 42\n",
            "INFO:__main__:Log number: 43\n",
            "INFO:__main__:Log number: 44\n",
            "INFO:__main__:Log number: 45\n",
            "INFO:__main__:Log number: 46\n",
            "INFO:__main__:Log number: 47\n",
            "INFO:__main__:Log number: 48\n",
            "INFO:__main__:Log number: 49\n",
            "INFO:__main__:Log number: 50\n",
            "INFO:__main__:Log number: 51\n",
            "INFO:__main__:Log number: 52\n",
            "INFO:__main__:Log number: 53\n",
            "INFO:__main__:Log number: 54\n",
            "INFO:__main__:Log number: 55\n",
            "INFO:__main__:Log number: 56\n",
            "INFO:__main__:Log number: 57\n",
            "INFO:__main__:Log number: 58\n",
            "INFO:__main__:Log number: 59\n",
            "INFO:__main__:Log number: 60\n",
            "INFO:__main__:Log number: 61\n",
            "INFO:__main__:Log number: 62\n",
            "INFO:__main__:Log number: 63\n",
            "INFO:__main__:Log number: 64\n",
            "INFO:__main__:Log number: 65\n",
            "INFO:__main__:Log number: 66\n",
            "INFO:__main__:Log number: 67\n",
            "INFO:__main__:Log number: 68\n",
            "INFO:__main__:Log number: 69\n",
            "INFO:__main__:Log number: 70\n",
            "INFO:__main__:Log number: 71\n",
            "INFO:__main__:Log number: 72\n",
            "INFO:__main__:Log number: 73\n",
            "INFO:__main__:Log number: 74\n",
            "INFO:__main__:Log number: 75\n",
            "INFO:__main__:Log number: 76\n",
            "INFO:__main__:Log number: 77\n",
            "INFO:__main__:Log number: 78\n",
            "INFO:__main__:Log number: 79\n",
            "INFO:__main__:Log number: 80\n",
            "INFO:__main__:Log number: 81\n",
            "INFO:__main__:Log number: 82\n",
            "INFO:__main__:Log number: 83\n",
            "INFO:__main__:Log number: 84\n",
            "INFO:__main__:Log number: 85\n",
            "INFO:__main__:Log number: 86\n",
            "INFO:__main__:Log number: 87\n",
            "INFO:__main__:Log number: 88\n",
            "INFO:__main__:Log number: 89\n",
            "INFO:__main__:Log number: 90\n",
            "INFO:__main__:Log number: 91\n",
            "INFO:__main__:Log number: 92\n",
            "INFO:__main__:Log number: 93\n",
            "INFO:__main__:Log number: 94\n",
            "INFO:__main__:Log number: 95\n",
            "INFO:__main__:Log number: 96\n",
            "INFO:__main__:Log number: 97\n",
            "INFO:__main__:Log number: 98\n",
            "INFO:__main__:Log number: 99\n",
            "INFO:__main__:Log number: 100\n",
            "INFO:__main__:Log number: 101\n",
            "INFO:__main__:Log number: 102\n",
            "INFO:__main__:Log number: 103\n",
            "INFO:__main__:Log number: 104\n",
            "INFO:__main__:Log number: 105\n",
            "INFO:__main__:Log number: 106\n",
            "INFO:__main__:Log number: 107\n",
            "INFO:__main__:Log number: 108\n",
            "INFO:__main__:Log number: 109\n",
            "INFO:__main__:Log number: 110\n",
            "INFO:__main__:Log number: 111\n",
            "INFO:__main__:Log number: 112\n",
            "INFO:__main__:Log number: 113\n",
            "INFO:__main__:Log number: 114\n",
            "INFO:__main__:Log number: 115\n",
            "INFO:__main__:Log number: 116\n",
            "INFO:__main__:Log number: 117\n",
            "INFO:__main__:Log number: 118\n",
            "INFO:__main__:Log number: 119\n",
            "INFO:__main__:Log number: 120\n",
            "INFO:__main__:Log number: 121\n",
            "INFO:__main__:Log number: 122\n",
            "INFO:__main__:Log number: 123\n",
            "INFO:__main__:Log number: 124\n",
            "INFO:__main__:Log number: 125\n",
            "INFO:__main__:Log number: 126\n",
            "INFO:__main__:Log number: 127\n",
            "INFO:__main__:Log number: 128\n",
            "INFO:__main__:Log number: 129\n",
            "INFO:__main__:Log number: 130\n",
            "INFO:__main__:Log number: 131\n",
            "INFO:__main__:Log number: 132\n",
            "INFO:__main__:Log number: 133\n",
            "INFO:__main__:Log number: 134\n",
            "INFO:__main__:Log number: 135\n",
            "INFO:__main__:Log number: 136\n",
            "INFO:__main__:Log number: 137\n",
            "INFO:__main__:Log number: 138\n",
            "INFO:__main__:Log number: 139\n",
            "INFO:__main__:Log number: 140\n",
            "INFO:__main__:Log number: 141\n",
            "INFO:__main__:Log number: 142\n",
            "INFO:__main__:Log number: 143\n",
            "INFO:__main__:Log number: 144\n",
            "INFO:__main__:Log number: 145\n",
            "INFO:__main__:Log number: 146\n",
            "INFO:__main__:Log number: 147\n",
            "INFO:__main__:Log number: 148\n",
            "INFO:__main__:Log number: 149\n",
            "INFO:__main__:Log number: 150\n",
            "INFO:__main__:Log number: 151\n",
            "INFO:__main__:Log number: 152\n",
            "INFO:__main__:Log number: 153\n",
            "INFO:__main__:Log number: 154\n",
            "INFO:__main__:Log number: 155\n",
            "INFO:__main__:Log number: 156\n",
            "INFO:__main__:Log number: 157\n",
            "INFO:__main__:Log number: 158\n",
            "INFO:__main__:Log number: 159\n",
            "INFO:__main__:Log number: 160\n",
            "INFO:__main__:Log number: 161\n",
            "INFO:__main__:Log number: 162\n",
            "INFO:__main__:Log number: 163\n",
            "INFO:__main__:Log number: 164\n",
            "INFO:__main__:Log number: 165\n",
            "INFO:__main__:Log number: 166\n",
            "INFO:__main__:Log number: 167\n",
            "INFO:__main__:Log number: 168\n",
            "INFO:__main__:Log number: 169\n",
            "INFO:__main__:Log number: 170\n",
            "INFO:__main__:Log number: 171\n",
            "INFO:__main__:Log number: 172\n",
            "INFO:__main__:Log number: 173\n",
            "INFO:__main__:Log number: 174\n",
            "INFO:__main__:Log number: 175\n",
            "INFO:__main__:Log number: 176\n",
            "INFO:__main__:Log number: 177\n",
            "INFO:__main__:Log number: 178\n",
            "INFO:__main__:Log number: 179\n",
            "INFO:__main__:Log number: 180\n",
            "INFO:__main__:Log number: 181\n",
            "INFO:__main__:Log number: 182\n",
            "INFO:__main__:Log number: 183\n",
            "INFO:__main__:Log number: 184\n",
            "INFO:__main__:Log number: 185\n",
            "INFO:__main__:Log number: 186\n",
            "INFO:__main__:Log number: 187\n",
            "INFO:__main__:Log number: 188\n",
            "INFO:__main__:Log number: 189\n",
            "INFO:__main__:Log number: 190\n",
            "INFO:__main__:Log number: 191\n",
            "INFO:__main__:Log number: 192\n",
            "INFO:__main__:Log number: 193\n",
            "INFO:__main__:Log number: 194\n",
            "INFO:__main__:Log number: 195\n",
            "INFO:__main__:Log number: 196\n",
            "INFO:__main__:Log number: 197\n",
            "INFO:__main__:Log number: 198\n",
            "INFO:__main__:Log number: 199\n",
            "INFO:__main__:Application finished.\n"
          ]
        }
      ]
    },
    {
      "cell_type": "markdown",
      "source": [
        "**19. Write a program that handles both IndexError and KeyError using a try-except block.**"
      ],
      "metadata": {
        "id": "0b7ZkYCOzP2V"
      }
    },
    {
      "cell_type": "code",
      "source": [
        "def access_data(data, index_or_key):\n",
        "    \"\"\"Accesses data (list or dictionary) and handles IndexError and KeyError.\"\"\"\n",
        "    try:\n",
        "        value = data[index_or_key]\n",
        "        print(f\"Value at {index_or_key}: {value}\")\n",
        "        return value\n",
        "    except IndexError:\n",
        "        print(f\"Error: Index '{index_or_key}' is out of range for the list.\")\n",
        "        return None\n",
        "    except KeyError:\n",
        "        print(f\"Error: Key '{index_or_key}' not found in the dictionary.\")\n",
        "        return None\n",
        "    except TypeError:\n",
        "        print(\"Error: Incompatible data type.\")\n",
        "        return None\n",
        "    except Exception as e:\n",
        "        print(f\"An unexpected error occurred: {e}\")\n",
        "        return None\n",
        "\n",
        "# Example usage:\n",
        "my_list = [10, 20, 30]\n",
        "my_dict = {\"name\": \"Alice\", \"age\": 30, \"city\": \"New York\"}\n",
        "\n",
        "access_data(my_list, 1)  # Valid index\n",
        "access_data(my_list, 5)  # IndexError\n",
        "access_data(my_dict, \"name\")  # Valid key\n",
        "access_data(my_dict, \"occupation\")  # KeyError\n",
        "access_data(my_list, \"name\") #TypeError\n",
        "access_data(\"string\", 1) #TypeError"
      ],
      "metadata": {
        "colab": {
          "base_uri": "https://localhost:8080/",
          "height": 139
        },
        "id": "LVf1AiurzoPt",
        "outputId": "1fac9266-5a08-40f0-d64e-aac8b7b84c87"
      },
      "execution_count": 20,
      "outputs": [
        {
          "output_type": "stream",
          "name": "stdout",
          "text": [
            "Value at 1: 20\n",
            "Error: Index '5' is out of range for the list.\n",
            "Value at name: Alice\n",
            "Error: Key 'occupation' not found in the dictionary.\n",
            "Error: Incompatible data type.\n",
            "Value at 1: t\n"
          ]
        },
        {
          "output_type": "execute_result",
          "data": {
            "text/plain": [
              "'t'"
            ],
            "application/vnd.google.colaboratory.intrinsic+json": {
              "type": "string"
            }
          },
          "metadata": {},
          "execution_count": 20
        }
      ]
    },
    {
      "cell_type": "markdown",
      "source": [
        "**20. How would you open a file and read its contents using a context manager in Python?**"
      ],
      "metadata": {
        "id": "qOc2KtH1zqY8"
      }
    },
    {
      "cell_type": "code",
      "source": [
        "def read_file_with_context_manager(filename):\n",
        "    \"\"\"Opens a file, reads its contents, and closes it using a context manager.\"\"\"\n",
        "    try:\n",
        "        with open(filename, 'r') as file:\n",
        "            contents = file.read()\n",
        "            return contents\n",
        "    except FileNotFoundError:\n",
        "        print(f\"Error: File '{filename}' not found.\")\n",
        "        return None\n",
        "    except Exception as e:\n",
        "        print(f\"An unexpected error occurred: {e}\")\n",
        "        return None\n",
        "\n",
        "# Example usage:\n",
        "filename = \"my_file.txt\"\n",
        "\n",
        "# Create a sample file for demonstration (optional)\n",
        "try:\n",
        "    with open(filename, 'w') as f:\n",
        "        f.write(\"This is line 1.\\n\")\n",
        "        f.write(\"This is line 2.\\n\")\n",
        "        f.write(\"This is line 3.\")\n",
        "except Exception as e:\n",
        "    print(f\"Error creating test file: {e}\")\n",
        "\n",
        "file_contents = read_file_with_context_manager(filename)\n",
        "\n",
        "if file_contents:\n",
        "    print(file_contents)"
      ],
      "metadata": {
        "colab": {
          "base_uri": "https://localhost:8080/"
        },
        "id": "kdhG3-wH0DOI",
        "outputId": "35d22e45-d52b-4f61-b54e-762221271e5d"
      },
      "execution_count": 21,
      "outputs": [
        {
          "output_type": "stream",
          "name": "stdout",
          "text": [
            "This is line 1.\n",
            "This is line 2.\n",
            "This is line 3.\n"
          ]
        }
      ]
    },
    {
      "cell_type": "markdown",
      "source": [
        "**21. Write a Pyhton program that reads a file and prints the number of occurances of a specific word.**"
      ],
      "metadata": {
        "id": "vL12nGtx0Feg"
      }
    },
    {
      "cell_type": "code",
      "source": [
        "def count_word_occurrences(filename, word):\n",
        "    \"\"\"Reads a file and prints the number of occurrences of a specific word.\"\"\"\n",
        "    try:\n",
        "        with open(filename, 'r') as file:\n",
        "            content = file.read().lower()  # Read the entire file and convert to lowercase\n",
        "            word = word.lower()  # Convert the search word to lowercase\n",
        "            count = content.count(word)\n",
        "            print(f\"The word '{word}' appears {count} times in the file.\")\n",
        "    except FileNotFoundError:\n",
        "        print(f\"Error: File '{filename}' not found.\")\n",
        "    except Exception as e:\n",
        "        print(f\"An unexpected error occurred: {e}\")\n",
        "\n",
        "# Example usage:\n",
        "filename = \"text.txt\"\n",
        "word_to_count = \"the\"\n",
        "\n",
        "# Create a sample file for demonstration (optional)\n",
        "try:\n",
        "    with open(filename, 'w') as f:\n",
        "        f.write(\"The quick brown fox jumps over the lazy dog. The dog was lazy.\\n\")\n",
        "        f.write(\"The quick dog also jumped over the lazy fox.\\n\")\n",
        "except Exception as e:\n",
        "    print(f\"Error creating test file: {e}\")\n",
        "\n",
        "count_word_occurrences(filename, word_to_count)\n",
        "\n",
        "word_to_count = \"dog\"\n",
        "count_word_occurrences(filename, word_to_count)\n",
        "\n",
        "word_to_count = \"cat\"\n",
        "count_word_occurrences(filename, word_to_count)"
      ],
      "metadata": {
        "colab": {
          "base_uri": "https://localhost:8080/"
        },
        "id": "Nwc6dxRY0Zzw",
        "outputId": "693ac3bb-3bc6-4991-8cd0-d1080253ff49"
      },
      "execution_count": 22,
      "outputs": [
        {
          "output_type": "stream",
          "name": "stdout",
          "text": [
            "The word 'the' appears 5 times in the file.\n",
            "The word 'dog' appears 3 times in the file.\n",
            "The word 'cat' appears 0 times in the file.\n"
          ]
        }
      ]
    },
    {
      "cell_type": "markdown",
      "source": [
        "**22. How can you check if a file is empty before attempting to read its contents?**"
      ],
      "metadata": {
        "id": "uRbUQred0dMf"
      }
    },
    {
      "cell_type": "code",
      "source": [
        "import os.path\n",
        "\n",
        "def read_file_if_not_empty(filename):\n",
        "    \"\"\"Reads a file if it is not empty.\"\"\"\n",
        "    if os.path.exists(filename):\n",
        "        if os.path.getsize(filename) > 0:  # Check if file size is greater than 0\n",
        "            try:\n",
        "                with open(filename, 'r') as file:\n",
        "                    contents = file.read()\n",
        "                    print(contents)\n",
        "                print(f\"File '{filename}' read successfully.\")\n",
        "            except Exception as e:\n",
        "                print(f\"An error occurred while reading '{filename}': {e}\")\n",
        "        else:\n",
        "            print(f\"File '{filename}' is empty.\")\n",
        "    else:\n",
        "        print(f\"Error: File '{filename}' does not exist.\")\n",
        "\n",
        "# Example usage:\n",
        "filename1 = \"empty_file.txt\"\n",
        "filename2 = \"non_empty_file.txt\"\n",
        "\n",
        "# Create example files.\n",
        "try:\n",
        "    with open(filename1, \"w\") as f:\n",
        "        pass #create empty file.\n",
        "    with open(filename2, \"w\") as f:\n",
        "        f.write(\"This is a non-empty file.\")\n",
        "except Exception as e:\n",
        "    print(f\"Error creating test files: {e}\")\n",
        "\n",
        "read_file_if_not_empty(filename1)\n",
        "read_file_if_not_empty(filename2)"
      ],
      "metadata": {
        "colab": {
          "base_uri": "https://localhost:8080/"
        },
        "id": "m_OmuJwm0tCC",
        "outputId": "7dad722e-36de-4468-8d9e-7317207c165f"
      },
      "execution_count": 23,
      "outputs": [
        {
          "output_type": "stream",
          "name": "stdout",
          "text": [
            "File 'empty_file.txt' is empty.\n",
            "This is a non-empty file.\n",
            "File 'non_empty_file.txt' read successfully.\n"
          ]
        }
      ]
    },
    {
      "cell_type": "markdown",
      "source": [
        "**23. Write a Python Program that writes to a log file when an error occurs during file handling.**"
      ],
      "metadata": {
        "id": "10TlrCpV0u0b"
      }
    },
    {
      "cell_type": "code",
      "source": [
        "import logging\n",
        "\n",
        "def setup_logging():\n",
        "    logging.basicConfig(\n",
        "        filename=\"error_log.txt\",\n",
        "        level=logging.ERROR,\n",
        "        format=\"%(asctime)s - %(levelname)s - %(message)s\"\n",
        "    )\n",
        "\n",
        "def read_file(filename):\n",
        "    try:\n",
        "        with open(filename, \"r\") as file:\n",
        "            content = file.read()\n",
        "            print(content)\n",
        "    except Exception as e:\n",
        "        logging.error(f\"Error occurred while reading {filename}: {e}\")\n",
        "        print(\"An error occurred. Check error_log.txt for details.\")\n",
        "\n",
        "if __name__ == \"__main__\":\n",
        "    setup_logging()\n",
        "    read_file(\"non_existent_file.txt\")\n"
      ],
      "metadata": {
        "colab": {
          "base_uri": "https://localhost:8080/"
        },
        "id": "th4YcqPy1K6X",
        "outputId": "dd89b24d-1248-472c-bbb7-1eca1e903eab"
      },
      "execution_count": 24,
      "outputs": [
        {
          "output_type": "stream",
          "name": "stderr",
          "text": [
            "ERROR:root:Error occurred while reading non_existent_file.txt: [Errno 2] No such file or directory: 'non_existent_file.txt'\n"
          ]
        },
        {
          "output_type": "stream",
          "name": "stdout",
          "text": [
            "An error occurred. Check error_log.txt for details.\n"
          ]
        }
      ]
    }
  ]
}